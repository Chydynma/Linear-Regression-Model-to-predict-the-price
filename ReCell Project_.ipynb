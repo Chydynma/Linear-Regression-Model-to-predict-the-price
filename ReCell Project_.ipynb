{
 "cells": [
  {
   "cell_type": "markdown",
   "id": "9923a61a",
   "metadata": {},
   "source": [
    "# Problem Statement"
   ]
  },
  {
   "cell_type": "markdown",
   "id": "b72aa328",
   "metadata": {},
   "source": [
    "Buying and selling used smartphones used to be something that happened on a handful of online marketplace sites. But the used and refurbished phone market has grown considerably over the past decade, and a new IDC (International Data Corporation) forecast predicts that the used phone market would be worth $52.7bn by 2023 with a compound annual growth rate (CAGR) of 13.6% from 2018 to 2023. This growth can be attributed to an uptick in demand for used smartphones that offer considerable savings compared with new models.\n",
    "\n",
    "Refurbished and used devices continue to provide cost-effective alternatives to both consumers and businesses that are looking to save money when purchasing a smartphone. There are plenty of other benefits associated with the used smartphone market. Used and refurbished devices can be sold with warranties and can also be insured with proof of purchase. Third-party vendors/platforms, such as Verizon, Amazon, etc., provide attractive offers to customers for refurbished smartphones. Maximizing the longevity of mobile phones through second-hand trade also reduces their environmental impact and helps in recycling and reducing waste. The impact of the COVID-19 outbreak may further boost the cheaper refurbished smartphone segment, as consumers cut back on discretionary spending and buy phones only for immediate needs.\n",
    "The rising potential of this comparatively under-the-radar market fuels the need for an ML-based solution to develop a dynamic pricing strategy for used and refurbished smartphones. \n",
    "\n"
   ]
  },
  {
   "cell_type": "markdown",
   "id": "6b3a3d77",
   "metadata": {},
   "source": [
    "# Objectives"
   ]
  },
  {
   "cell_type": "markdown",
   "id": "40ab2741",
   "metadata": {},
   "source": [
    "ReCell, a startup aiming to tap the potential in this market. They want you to analyze the data provided and build a linear regression model to predict the price of a used phone and identify factors that significantly influence it."
   ]
  },
  {
   "cell_type": "markdown",
   "id": "0b2ad8b8",
   "metadata": {},
   "source": [
    "# Data Description:"
   ]
  },
  {
   "cell_type": "markdown",
   "id": "bf10082e",
   "metadata": {},
   "source": [
    "- brand_name: Name of manufacturing brand\n",
    "- os: OS on which the phone runs\n",
    "- screen_size: Size of the screen in cm\n",
    "- 4g: Whether 4G is available or not\n",
    "- 5g: Whether 5G is available or not\n",
    "- main_camera_mp: Resolution of the rear camera in megapixels\n",
    "- selfie_camera_mp: Resolution of the front camera in megapixels\n",
    "- int_memory: Amount of internal memory (ROM) in GB\n",
    "- ram: Amount of RAM in GB\n",
    "- battery: Energy capacity of the phone battery in mAh\n",
    "- weight: Weight of the phone in grams\n",
    "- release_year: Year when the phone model was released\n",
    "- days_used: Number of days the used/refurbished phone has been used\n",
    "- new_price: Price of a new phone of the same model in euros\n",
    "- used_price: Price of the used/refurbished phone in euros"
   ]
  },
  {
   "cell_type": "code",
   "execution_count": 1,
   "id": "522c9f7d",
   "metadata": {},
   "outputs": [],
   "source": [
    "# Libraries to help with reading and manipulating data\n",
    "import pandas as pd\n",
    "import numpy as np\n",
    "\n",
    "# Libraries to help with data visualization\n",
    "import matplotlib.pyplot as plt\n",
    "import seaborn as sns\n",
    "\n",
    "# to split the data into train and test\n",
    "from sklearn.model_selection import train_test_split\n",
    "\n",
    "# to build linear regression_model\n",
    "from sklearn.linear_model import LinearRegression\n",
    "\n",
    "# to check model performance\n",
    "from sklearn.metrics import mean_absolute_error, mean_squared_error, r2_score\n",
    "\n",
    "# to build linear regression_model using statsmodels\n",
    "import statsmodels.api as sm\n",
    "\n",
    "# Removes the limit from the number of displayed columns and rows.\n",
    "# This is so I can see the entire dataframe when I print it\n",
    "pd.set_option('display.max_columns', None)\n",
    "# pd.set_option('display.max_rows', None)\n",
    "pd.set_option('display.max_rows', 200)\n",
    "\n",
    "import warnings # to remove/supress output warnings\n",
    "warnings.filterwarnings (\"ignore\")\n",
    "\n",
    "%matplotlib inline\n",
    "sns.set(color_codes=True) # adding a nice background\n",
    "\n",
    "import os"
   ]
  },
  {
   "cell_type": "code",
   "execution_count": 2,
   "id": "44fd127b",
   "metadata": {},
   "outputs": [
    {
     "data": {
      "text/plain": [
       "'/Users/chydynma/University Of Texas'"
      ]
     },
     "execution_count": 2,
     "metadata": {},
     "output_type": "execute_result"
    }
   ],
   "source": [
    "# get current working directory\n",
    "os.getcwd()"
   ]
  },
  {
   "cell_type": "code",
   "execution_count": 3,
   "id": "ca8031fc",
   "metadata": {},
   "outputs": [
    {
     "data": {
      "text/html": [
       "<div>\n",
       "<style scoped>\n",
       "    .dataframe tbody tr th:only-of-type {\n",
       "        vertical-align: middle;\n",
       "    }\n",
       "\n",
       "    .dataframe tbody tr th {\n",
       "        vertical-align: top;\n",
       "    }\n",
       "\n",
       "    .dataframe thead th {\n",
       "        text-align: right;\n",
       "    }\n",
       "</style>\n",
       "<table border=\"1\" class=\"dataframe\">\n",
       "  <thead>\n",
       "    <tr style=\"text-align: right;\">\n",
       "      <th></th>\n",
       "      <th>brand_name</th>\n",
       "      <th>os</th>\n",
       "      <th>screen_size</th>\n",
       "      <th>4g</th>\n",
       "      <th>5g</th>\n",
       "      <th>main_camera_mp</th>\n",
       "      <th>selfie_camera_mp</th>\n",
       "      <th>int_memory</th>\n",
       "      <th>ram</th>\n",
       "      <th>battery</th>\n",
       "      <th>weight</th>\n",
       "      <th>release_year</th>\n",
       "      <th>days_used</th>\n",
       "      <th>new_price</th>\n",
       "      <th>used_price</th>\n",
       "    </tr>\n",
       "  </thead>\n",
       "  <tbody>\n",
       "    <tr>\n",
       "      <th>0</th>\n",
       "      <td>Honor</td>\n",
       "      <td>Android</td>\n",
       "      <td>23.97</td>\n",
       "      <td>yes</td>\n",
       "      <td>no</td>\n",
       "      <td>13.0</td>\n",
       "      <td>5.0</td>\n",
       "      <td>64.0</td>\n",
       "      <td>3.0</td>\n",
       "      <td>3020.0</td>\n",
       "      <td>146.0</td>\n",
       "      <td>2020</td>\n",
       "      <td>127</td>\n",
       "      <td>111.62</td>\n",
       "      <td>86.96</td>\n",
       "    </tr>\n",
       "    <tr>\n",
       "      <th>1</th>\n",
       "      <td>Honor</td>\n",
       "      <td>Android</td>\n",
       "      <td>28.10</td>\n",
       "      <td>yes</td>\n",
       "      <td>yes</td>\n",
       "      <td>13.0</td>\n",
       "      <td>16.0</td>\n",
       "      <td>128.0</td>\n",
       "      <td>8.0</td>\n",
       "      <td>4300.0</td>\n",
       "      <td>213.0</td>\n",
       "      <td>2020</td>\n",
       "      <td>325</td>\n",
       "      <td>249.39</td>\n",
       "      <td>161.49</td>\n",
       "    </tr>\n",
       "    <tr>\n",
       "      <th>2</th>\n",
       "      <td>Honor</td>\n",
       "      <td>Android</td>\n",
       "      <td>24.29</td>\n",
       "      <td>yes</td>\n",
       "      <td>yes</td>\n",
       "      <td>13.0</td>\n",
       "      <td>8.0</td>\n",
       "      <td>128.0</td>\n",
       "      <td>8.0</td>\n",
       "      <td>4200.0</td>\n",
       "      <td>213.0</td>\n",
       "      <td>2020</td>\n",
       "      <td>162</td>\n",
       "      <td>359.47</td>\n",
       "      <td>268.55</td>\n",
       "    </tr>\n",
       "    <tr>\n",
       "      <th>3</th>\n",
       "      <td>Honor</td>\n",
       "      <td>Android</td>\n",
       "      <td>26.04</td>\n",
       "      <td>yes</td>\n",
       "      <td>yes</td>\n",
       "      <td>13.0</td>\n",
       "      <td>8.0</td>\n",
       "      <td>64.0</td>\n",
       "      <td>6.0</td>\n",
       "      <td>7250.0</td>\n",
       "      <td>480.0</td>\n",
       "      <td>2020</td>\n",
       "      <td>345</td>\n",
       "      <td>278.93</td>\n",
       "      <td>180.23</td>\n",
       "    </tr>\n",
       "    <tr>\n",
       "      <th>4</th>\n",
       "      <td>Honor</td>\n",
       "      <td>Android</td>\n",
       "      <td>15.72</td>\n",
       "      <td>yes</td>\n",
       "      <td>no</td>\n",
       "      <td>13.0</td>\n",
       "      <td>8.0</td>\n",
       "      <td>64.0</td>\n",
       "      <td>3.0</td>\n",
       "      <td>5000.0</td>\n",
       "      <td>185.0</td>\n",
       "      <td>2020</td>\n",
       "      <td>293</td>\n",
       "      <td>140.87</td>\n",
       "      <td>103.80</td>\n",
       "    </tr>\n",
       "  </tbody>\n",
       "</table>\n",
       "</div>"
      ],
      "text/plain": [
       "  brand_name       os  screen_size   4g   5g  main_camera_mp  \\\n",
       "0      Honor  Android        23.97  yes   no            13.0   \n",
       "1      Honor  Android        28.10  yes  yes            13.0   \n",
       "2      Honor  Android        24.29  yes  yes            13.0   \n",
       "3      Honor  Android        26.04  yes  yes            13.0   \n",
       "4      Honor  Android        15.72  yes   no            13.0   \n",
       "\n",
       "   selfie_camera_mp  int_memory  ram  battery  weight  release_year  \\\n",
       "0               5.0        64.0  3.0   3020.0   146.0          2020   \n",
       "1              16.0       128.0  8.0   4300.0   213.0          2020   \n",
       "2               8.0       128.0  8.0   4200.0   213.0          2020   \n",
       "3               8.0        64.0  6.0   7250.0   480.0          2020   \n",
       "4               8.0        64.0  3.0   5000.0   185.0          2020   \n",
       "\n",
       "   days_used  new_price  used_price  \n",
       "0        127     111.62       86.96  \n",
       "1        325     249.39      161.49  \n",
       "2        162     359.47      268.55  \n",
       "3        345     278.93      180.23  \n",
       "4        293     140.87      103.80  "
      ]
     },
     "execution_count": 3,
     "metadata": {},
     "output_type": "execute_result"
    }
   ],
   "source": [
    "phone_data=pd.read_csv('/Users/chydynma/Downloads/used_phone_data.csv')\n",
    "phone_data.head() # view the first five rows of the dataset"
   ]
  },
  {
   "cell_type": "code",
   "execution_count": 4,
   "id": "c30fcb87",
   "metadata": {
    "scrolled": true
   },
   "outputs": [
    {
     "data": {
      "text/plain": [
       "(3571, 15)"
      ]
     },
     "execution_count": 4,
     "metadata": {},
     "output_type": "execute_result"
    }
   ],
   "source": [
    "phone_data.shape"
   ]
  },
  {
   "cell_type": "markdown",
   "id": "87913648",
   "metadata": {},
   "source": [
    "**There are 3571 rows and 15 columns**"
   ]
  },
  {
   "cell_type": "code",
   "execution_count": 5,
   "id": "5459f160",
   "metadata": {},
   "outputs": [
    {
     "name": "stdout",
     "output_type": "stream",
     "text": [
      "<class 'pandas.core.frame.DataFrame'>\n",
      "RangeIndex: 3571 entries, 0 to 3570\n",
      "Data columns (total 15 columns):\n",
      " #   Column            Non-Null Count  Dtype  \n",
      "---  ------            --------------  -----  \n",
      " 0   brand_name        3571 non-null   object \n",
      " 1   os                3571 non-null   object \n",
      " 2   screen_size       3571 non-null   float64\n",
      " 3   4g                3571 non-null   object \n",
      " 4   5g                3571 non-null   object \n",
      " 5   main_camera_mp    3391 non-null   float64\n",
      " 6   selfie_camera_mp  3569 non-null   float64\n",
      " 7   int_memory        3561 non-null   float64\n",
      " 8   ram               3561 non-null   float64\n",
      " 9   battery           3565 non-null   float64\n",
      " 10  weight            3564 non-null   float64\n",
      " 11  release_year      3571 non-null   int64  \n",
      " 12  days_used         3571 non-null   int64  \n",
      " 13  new_price         3571 non-null   float64\n",
      " 14  used_price        3571 non-null   float64\n",
      "dtypes: float64(9), int64(2), object(4)\n",
      "memory usage: 418.6+ KB\n"
     ]
    }
   ],
   "source": [
    "# information about the columns in the dataset\n",
    "phone_data.info()"
   ]
  },
  {
   "cell_type": "markdown",
   "id": "7ff812c4",
   "metadata": {},
   "source": [
    "* There are 3571 rows and 15 columns\n",
    "* Brand name, os, 4g and 5g are categorical variables while the rest are numerical.\n",
    "* There are missing values in main camera mp, selfie camera mp, int memory, ram, battery and weight."
   ]
  },
  {
   "cell_type": "code",
   "execution_count": 6,
   "id": "d8274682",
   "metadata": {},
   "outputs": [
    {
     "name": "stdout",
     "output_type": "stream",
     "text": [
      "main_camera_mp      180\n",
      "int_memory           10\n",
      "ram                  10\n",
      "weight                7\n",
      "battery               6\n",
      "selfie_camera_mp      2\n",
      "brand_name            0\n",
      "os                    0\n",
      "screen_size           0\n",
      "4g                    0\n",
      "5g                    0\n",
      "release_year          0\n",
      "days_used             0\n",
      "new_price             0\n",
      "used_price            0\n",
      "dtype: int64\n",
      "0\n"
     ]
    }
   ],
   "source": [
    "# checking of missing values and duplicates\n",
    "print(phone_data.isnull().sum().sort_values(ascending = False))\n",
    "\n",
    "print(phone_data.duplicated().sum())"
   ]
  },
  {
   "cell_type": "markdown",
   "id": "7203468a",
   "metadata": {},
   "source": [
    "- No duplicate can be found in the dataset. \n",
    "- However, Main_camera_mp, int_memory, ram, weight, battery and selfie_camera_mp have null values."
   ]
  },
  {
   "cell_type": "code",
   "execution_count": 7,
   "id": "56f633bd",
   "metadata": {},
   "outputs": [],
   "source": [
    "phone_data1 = phone_data.copy()"
   ]
  },
  {
   "cell_type": "code",
   "execution_count": 8,
   "id": "1f841056",
   "metadata": {},
   "outputs": [
    {
     "name": "stdout",
     "output_type": "stream",
     "text": [
      "The number of values for feature brand_name :34\n",
      "The number of values for feature os :4 -- ['Android' 'Others' 'Windows' 'iOS']\n",
      "The number of values for feature screen_size :127\n",
      "The number of values for feature 4g :2 -- ['no' 'yes']\n",
      "The number of values for feature 5g :2 -- ['no' 'yes']\n",
      "The number of values for feature main_camera_mp :224\n",
      "The number of values for feature selfie_camera_mp :39\n",
      "The number of values for feature int_memory :26\n",
      "The number of values for feature ram :24\n",
      "The number of values for feature battery :360\n",
      "The number of values for feature weight :620\n",
      "The number of values for feature release_year :8 -- [2013 2014 2015 2016 2017 2018 2019 2020]\n",
      "The number of values for feature days_used :930\n",
      "The number of values for feature new_price :3099\n",
      "The number of values for feature used_price :3044\n"
     ]
    }
   ],
   "source": [
    "# Details and numbers of unique observation in each column\n",
    "for column in phone_data:\n",
    "    unique_vals = np.unique(phone_data[column])\n",
    "    nr_values = len(unique_vals)\n",
    "    if nr_values < 10:\n",
    "        print('The number of values for feature {} :{} -- {}'.format(column, nr_values,unique_vals))\n",
    "    else:\n",
    "        print('The number of values for feature {} :{}'.format(column, nr_values))"
   ]
  },
  {
   "cell_type": "code",
   "execution_count": 9,
   "id": "a567e16e",
   "metadata": {
    "scrolled": true
   },
   "outputs": [
    {
     "data": {
      "text/html": [
       "<div>\n",
       "<style scoped>\n",
       "    .dataframe tbody tr th:only-of-type {\n",
       "        vertical-align: middle;\n",
       "    }\n",
       "\n",
       "    .dataframe tbody tr th {\n",
       "        vertical-align: top;\n",
       "    }\n",
       "\n",
       "    .dataframe thead th {\n",
       "        text-align: right;\n",
       "    }\n",
       "</style>\n",
       "<table border=\"1\" class=\"dataframe\">\n",
       "  <thead>\n",
       "    <tr style=\"text-align: right;\">\n",
       "      <th></th>\n",
       "      <th>count</th>\n",
       "      <th>mean</th>\n",
       "      <th>std</th>\n",
       "      <th>min</th>\n",
       "      <th>25%</th>\n",
       "      <th>50%</th>\n",
       "      <th>75%</th>\n",
       "      <th>max</th>\n",
       "    </tr>\n",
       "  </thead>\n",
       "  <tbody>\n",
       "    <tr>\n",
       "      <th>screen_size</th>\n",
       "      <td>3571.000</td>\n",
       "      <td>14.804</td>\n",
       "      <td>5.153</td>\n",
       "      <td>2.700</td>\n",
       "      <td>12.700</td>\n",
       "      <td>13.490</td>\n",
       "      <td>16.510</td>\n",
       "      <td>46.360</td>\n",
       "    </tr>\n",
       "    <tr>\n",
       "      <th>main_camera_mp</th>\n",
       "      <td>3391.000</td>\n",
       "      <td>9.400</td>\n",
       "      <td>4.818</td>\n",
       "      <td>0.080</td>\n",
       "      <td>5.000</td>\n",
       "      <td>8.000</td>\n",
       "      <td>13.000</td>\n",
       "      <td>48.000</td>\n",
       "    </tr>\n",
       "    <tr>\n",
       "      <th>selfie_camera_mp</th>\n",
       "      <td>3569.000</td>\n",
       "      <td>6.547</td>\n",
       "      <td>6.879</td>\n",
       "      <td>0.300</td>\n",
       "      <td>2.000</td>\n",
       "      <td>5.000</td>\n",
       "      <td>8.000</td>\n",
       "      <td>32.000</td>\n",
       "    </tr>\n",
       "    <tr>\n",
       "      <th>int_memory</th>\n",
       "      <td>3561.000</td>\n",
       "      <td>54.533</td>\n",
       "      <td>84.696</td>\n",
       "      <td>0.005</td>\n",
       "      <td>16.000</td>\n",
       "      <td>32.000</td>\n",
       "      <td>64.000</td>\n",
       "      <td>1024.000</td>\n",
       "    </tr>\n",
       "    <tr>\n",
       "      <th>ram</th>\n",
       "      <td>3561.000</td>\n",
       "      <td>4.057</td>\n",
       "      <td>1.392</td>\n",
       "      <td>0.030</td>\n",
       "      <td>4.000</td>\n",
       "      <td>4.000</td>\n",
       "      <td>4.000</td>\n",
       "      <td>16.000</td>\n",
       "    </tr>\n",
       "    <tr>\n",
       "      <th>battery</th>\n",
       "      <td>3565.000</td>\n",
       "      <td>3067.226</td>\n",
       "      <td>1364.207</td>\n",
       "      <td>80.000</td>\n",
       "      <td>2100.000</td>\n",
       "      <td>3000.000</td>\n",
       "      <td>4000.000</td>\n",
       "      <td>12000.000</td>\n",
       "    </tr>\n",
       "    <tr>\n",
       "      <th>weight</th>\n",
       "      <td>3564.000</td>\n",
       "      <td>179.424</td>\n",
       "      <td>90.281</td>\n",
       "      <td>23.000</td>\n",
       "      <td>140.000</td>\n",
       "      <td>159.000</td>\n",
       "      <td>184.000</td>\n",
       "      <td>950.000</td>\n",
       "    </tr>\n",
       "    <tr>\n",
       "      <th>release_year</th>\n",
       "      <td>3571.000</td>\n",
       "      <td>2015.965</td>\n",
       "      <td>2.292</td>\n",
       "      <td>2013.000</td>\n",
       "      <td>2014.000</td>\n",
       "      <td>2016.000</td>\n",
       "      <td>2018.000</td>\n",
       "      <td>2020.000</td>\n",
       "    </tr>\n",
       "    <tr>\n",
       "      <th>days_used</th>\n",
       "      <td>3571.000</td>\n",
       "      <td>675.391</td>\n",
       "      <td>248.641</td>\n",
       "      <td>91.000</td>\n",
       "      <td>536.000</td>\n",
       "      <td>690.000</td>\n",
       "      <td>872.000</td>\n",
       "      <td>1094.000</td>\n",
       "    </tr>\n",
       "    <tr>\n",
       "      <th>new_price</th>\n",
       "      <td>3571.000</td>\n",
       "      <td>237.389</td>\n",
       "      <td>197.546</td>\n",
       "      <td>9.130</td>\n",
       "      <td>120.130</td>\n",
       "      <td>189.800</td>\n",
       "      <td>291.935</td>\n",
       "      <td>2560.200</td>\n",
       "    </tr>\n",
       "    <tr>\n",
       "      <th>used_price</th>\n",
       "      <td>3571.000</td>\n",
       "      <td>109.880</td>\n",
       "      <td>121.501</td>\n",
       "      <td>2.510</td>\n",
       "      <td>45.205</td>\n",
       "      <td>75.530</td>\n",
       "      <td>126.000</td>\n",
       "      <td>1916.540</td>\n",
       "    </tr>\n",
       "  </tbody>\n",
       "</table>\n",
       "</div>"
      ],
      "text/plain": [
       "                    count     mean      std      min      25%      50%  \\\n",
       "screen_size      3571.000   14.804    5.153    2.700   12.700   13.490   \n",
       "main_camera_mp   3391.000    9.400    4.818    0.080    5.000    8.000   \n",
       "selfie_camera_mp 3569.000    6.547    6.879    0.300    2.000    5.000   \n",
       "int_memory       3561.000   54.533   84.696    0.005   16.000   32.000   \n",
       "ram              3561.000    4.057    1.392    0.030    4.000    4.000   \n",
       "battery          3565.000 3067.226 1364.207   80.000 2100.000 3000.000   \n",
       "weight           3564.000  179.424   90.281   23.000  140.000  159.000   \n",
       "release_year     3571.000 2015.965    2.292 2013.000 2014.000 2016.000   \n",
       "days_used        3571.000  675.391  248.641   91.000  536.000  690.000   \n",
       "new_price        3571.000  237.389  197.546    9.130  120.130  189.800   \n",
       "used_price       3571.000  109.880  121.501    2.510   45.205   75.530   \n",
       "\n",
       "                      75%       max  \n",
       "screen_size        16.510    46.360  \n",
       "main_camera_mp     13.000    48.000  \n",
       "selfie_camera_mp    8.000    32.000  \n",
       "int_memory         64.000  1024.000  \n",
       "ram                 4.000    16.000  \n",
       "battery          4000.000 12000.000  \n",
       "weight            184.000   950.000  \n",
       "release_year     2018.000  2020.000  \n",
       "days_used         872.000  1094.000  \n",
       "new_price         291.935  2560.200  \n",
       "used_price        126.000  1916.540  "
      ]
     },
     "execution_count": 9,
     "metadata": {},
     "output_type": "execute_result"
    }
   ],
   "source": [
    "# Let's look at the statistical summary of the data\n",
    "pd.set_option(\n",
    "    \"display.float_format\", lambda x: \"%.3f\" % x\n",
    ")  # to display numbers rounded off to 3 decimal places\n",
    "\n",
    "phone_data.describe().T"
   ]
  },
  {
   "cell_type": "markdown",
   "id": "11d4865e",
   "metadata": {},
   "source": [
    "**Observations**\n",
    "\n",
    "* There are 4 different os in the data.\n",
    "* 34 different brands in the data\n",
    "* The screen size varies from 2.7 to 46.36 inches.\n",
    "* The used prices vary from 2.51 to ~1917 euros."
   ]
  },
  {
   "cell_type": "markdown",
   "id": "0e42f192",
   "metadata": {},
   "source": [
    "## Exploratory Data Analysis"
   ]
  },
  {
   "cell_type": "code",
   "execution_count": 10,
   "id": "1afbda16",
   "metadata": {},
   "outputs": [],
   "source": [
    "# function to plot a boxplot and a histogram along the same scale.\n",
    "\n",
    "\n",
    "def histogram_boxplot(phone_data, feature, figsize=(12, 7), kde=False, bins=None):\n",
    "    \"\"\"\n",
    "    Boxplot and histogram combined\n",
    "\n",
    "    data: dataframe\n",
    "    feature: dataframe column\n",
    "    figsize: size of figure (default (12,7))\n",
    "    kde: whether to the show density curve (default False)\n",
    "    bins: number of bins for histogram (default None)\n",
    "    \"\"\"\n",
    "    f2, (ax_box2, ax_hist2) = plt.subplots(\n",
    "        nrows=2,  # Number of rows of the subplot grid= 2\n",
    "        sharex=True,  # x-axis will be shared among all subplots\n",
    "        gridspec_kw={\"height_ratios\": (0.25, 0.75)},\n",
    "        figsize=figsize,\n",
    "    )  # creating the 2 subplots\n",
    "    sns.boxplot(\n",
    "        data=phone_data, x=feature, ax=ax_box2, showmeans=True, color=\"violet\"\n",
    "    )  # boxplot will be created and a star will indicate the mean value of the column\n",
    "    sns.histplot(\n",
    "        data=phone_data, x=feature, kde=kde, ax=ax_hist2, bins=bins, palette=\"winter\"\n",
    "    ) if bins else sns.histplot(\n",
    "        data=phone_data, x=feature, kde=kde, ax=ax_hist2\n",
    "    )  # For histogram\n",
    "    ax_hist2.axvline(\n",
    "        phone_data[feature].mean(), color=\"green\", linestyle=\"--\"\n",
    "    )  # Add mean to the histogram\n",
    "    ax_hist2.axvline(\n",
    "        phone_data[feature].median(), color=\"black\", linestyle=\"-\"\n",
    "    )  # Add median to the histogram"
   ]
  },
  {
   "cell_type": "markdown",
   "id": "16812240",
   "metadata": {},
   "source": [
    "# 1. What does the distribution of used phone prices look like?"
   ]
  },
  {
   "cell_type": "code",
   "execution_count": 11,
   "id": "d1931413",
   "metadata": {
    "scrolled": true
   },
   "outputs": [
    {
     "data": {
      "image/png": "[encoded data removed]",
      "text/plain": [
       "<Figure size 864x504 with 2 Axes>"
      ]
     },
     "metadata": {},
     "output_type": "display_data"
    }
   ],
   "source": [
    "histogram_boxplot(phone_data, \"used_price\")"
   ]
  },
  {
   "cell_type": "markdown",
   "id": "adc8279b",
   "metadata": {},
   "source": [
    "**Observation**\n",
    "* Used price is skewed to the right, which means some prices of used phone are high.\n",
    "* Mean used price is around 110."
   ]
  },
  {
   "cell_type": "code",
   "execution_count": 12,
   "id": "b74716a5",
   "metadata": {},
   "outputs": [
    {
     "data": {
      "image/png": "[encoded data removed]",
      "text/plain": [
       "<Figure size 864x504 with 2 Axes>"
      ]
     },
     "metadata": {},
     "output_type": "display_data"
    }
   ],
   "source": [
    "histogram_boxplot(phone_data, \"new_price\")"
   ]
  },
  {
   "cell_type": "markdown",
   "id": "40cd0435",
   "metadata": {},
   "source": [
    "**Observation**\n",
    "\n",
    "- New price is skewed to the right, which mean some prices of phone when new are high.\n",
    "- Mean new price is around 237."
   ]
  },
  {
   "cell_type": "markdown",
   "id": "ceedd615",
   "metadata": {},
   "source": [
    "# 2. Percentage of the used phone market is dominated by Android devices"
   ]
  },
  {
   "cell_type": "code",
   "execution_count": 13,
   "id": "3aafe9be",
   "metadata": {},
   "outputs": [],
   "source": [
    "# Function to create barplots that indicate percentage for each category.\n",
    "def bar_perc(plot, feature):\n",
    "    '''\n",
    "    plot\n",
    "    feature: 1-d categorical feature array\n",
    "    '''\n",
    "    total = len(feature) # length of the column\n",
    "    for p in ax.patches:\n",
    "        percentage = '{:.1f}%'.format(100 * p.get_height()/total) # percentage of each class of the category\n",
    "        x = p.get_x() + p.get_width() / 2 - 0.05 # width of the plot\n",
    "        y = p.get_y() + p.get_height()           # hieght of the plot\n",
    "        ax.annotate(percentage, (x, y), size = 12) # annotate the percantage"
   ]
  },
  {
   "cell_type": "code",
   "execution_count": 14,
   "id": "329c5d62",
   "metadata": {
    "scrolled": true
   },
   "outputs": [
    {
     "data": {
      "text/plain": [
       "os\n",
       "Android    3246\n",
       "Others      202\n",
       "Windows      67\n",
       "iOS          56\n",
       "Name: used_price, dtype: int64"
      ]
     },
     "execution_count": 14,
     "metadata": {},
     "output_type": "execute_result"
    }
   ],
   "source": [
    "phone_data1.groupby(\"os\")[\"used_price\"].count()"
   ]
  },
  {
   "cell_type": "code",
   "execution_count": 15,
   "id": "7e435a95",
   "metadata": {},
   "outputs": [
    {
     "data": {
      "text/plain": [
       "os\n",
       "Android   0.909\n",
       "Others    0.057\n",
       "Windows   0.019\n",
       "iOS       0.016\n",
       "Name: used_price, dtype: float64"
      ]
     },
     "execution_count": 15,
     "metadata": {},
     "output_type": "execute_result"
    }
   ],
   "source": [
    "# let us compute the percentage\n",
    "dom_perc = phone_data1.groupby(\"os\")[\"used_price\"].count()/phone_data1[\"used_price\"].count()\n",
    "dom_perc"
   ]
  },
  {
   "cell_type": "markdown",
   "id": "8b8d618f",
   "metadata": {},
   "source": [
    "### The percentage of used phones dominating the market which are Android devices is 91%"
   ]
  },
  {
   "cell_type": "code",
   "execution_count": 16,
   "id": "34044d92",
   "metadata": {},
   "outputs": [
    {
     "data": {
      "image/png": "[encoded data removed]",
      "text/plain": [
       "<Figure size 720x504 with 1 Axes>"
      ]
     },
     "metadata": {},
     "output_type": "display_data"
    }
   ],
   "source": [
    "plt.figure(figsize=(10,7))\n",
    "sns.set_palette(\"muted\")\n",
    "ax = sns.countplot(phone_data1['os'])\n",
    "plt.xlabel('os')\n",
    "plt.ylabel('Count')\n",
    "bar_perc(ax,phone_data1['os'])\n",
    "ax.set_title(\"os Count\", fontsize=14);"
   ]
  },
  {
   "cell_type": "markdown",
   "id": "6daa42ff",
   "metadata": {},
   "source": [
    "# 3. How does the amount of RAM vary with the brand"
   ]
  },
  {
   "cell_type": "code",
   "execution_count": 17,
   "id": "342cabc4",
   "metadata": {},
   "outputs": [
    {
     "data": {
      "text/plain": [
       "brand_name\n",
       "Acer         3.902\n",
       "Alcatel      3.426\n",
       "Apple        4.000\n",
       "Asus         4.048\n",
       "BlackBerry   3.830\n",
       "Celkon       1.466\n",
       "Coolpad      3.955\n",
       "Gionee       3.933\n",
       "Google       4.533\n",
       "HTC          4.000\n",
       "Honor        4.593\n",
       "Huawei       4.641\n",
       "Infinix      2.600\n",
       "Karbonn      3.375\n",
       "LG           3.894\n",
       "Lava         3.278\n",
       "Lenovo       3.887\n",
       "Meizu        4.452\n",
       "Micromax     3.750\n",
       "Microsoft    4.000\n",
       "Motorola     3.945\n",
       "Nokia        3.601\n",
       "OnePlus      6.364\n",
       "Oppo         4.961\n",
       "Others       3.751\n",
       "Panasonic    4.000\n",
       "Realme       4.195\n",
       "Samsung      4.159\n",
       "Sony         4.068\n",
       "Spice        3.750\n",
       "Vivo         4.756\n",
       "XOLO         4.000\n",
       "Xiaomi       4.567\n",
       "ZTE          4.023\n",
       "Name: ram, dtype: float64"
      ]
     },
     "execution_count": 17,
     "metadata": {},
     "output_type": "execute_result"
    }
   ],
   "source": [
    "phone_data1.groupby(\"brand_name\")[\"ram\"].mean()"
   ]
  },
  {
   "cell_type": "code",
   "execution_count": 18,
   "id": "ede31d05",
   "metadata": {
    "scrolled": true
   },
   "outputs": [
    {
     "data": {
      "image/png": "[encoded data removed]",
      "text/plain": [
       "<Figure size 1080x360 with 2 Axes>"
      ]
     },
     "metadata": {},
     "output_type": "display_data"
    }
   ],
   "source": [
    "plt.figure(figsize=(15, 5))\n",
    "\n",
    "plt.subplot(1, 2, 1)\n",
    "sns.barplot(data=phone_data, y=\"ram\", x=\"brand_name\")\n",
    "plt.xticks(rotation=90)\n",
    "\n",
    "plt.subplot(1, 2, 2)\n",
    "sns.boxplot(data=phone_data, y=\"ram\", x=\"brand_name\")\n",
    "plt.xticks(rotation=90)\n",
    "\n",
    "plt.show()"
   ]
  },
  {
   "cell_type": "markdown",
   "id": "234f3436",
   "metadata": {},
   "source": [
    "**Observation**\n",
    "\n",
    "- OnePlus has the highest ram followed by Oppo and then Vivo.\n",
    "- The brands with the least ram are Celkon and Infinix."
   ]
  },
  {
   "cell_type": "markdown",
   "id": "3d3d179c",
   "metadata": {},
   "source": [
    "# 4. Which attributes are highly correlated with the used phone price?"
   ]
  },
  {
   "cell_type": "code",
   "execution_count": 19,
   "id": "fc5dbf64",
   "metadata": {
    "scrolled": true
   },
   "outputs": [
    {
     "data": {
      "text/html": [
       "<div>\n",
       "<style scoped>\n",
       "    .dataframe tbody tr th:only-of-type {\n",
       "        vertical-align: middle;\n",
       "    }\n",
       "\n",
       "    .dataframe tbody tr th {\n",
       "        vertical-align: top;\n",
       "    }\n",
       "\n",
       "    .dataframe thead th {\n",
       "        text-align: right;\n",
       "    }\n",
       "</style>\n",
       "<table border=\"1\" class=\"dataframe\">\n",
       "  <thead>\n",
       "    <tr style=\"text-align: right;\">\n",
       "      <th></th>\n",
       "      <th>screen_size</th>\n",
       "      <th>main_camera_mp</th>\n",
       "      <th>selfie_camera_mp</th>\n",
       "      <th>int_memory</th>\n",
       "      <th>ram</th>\n",
       "      <th>battery</th>\n",
       "      <th>weight</th>\n",
       "      <th>release_year</th>\n",
       "      <th>days_used</th>\n",
       "      <th>new_price</th>\n",
       "      <th>used_price</th>\n",
       "    </tr>\n",
       "  </thead>\n",
       "  <tbody>\n",
       "    <tr>\n",
       "      <th>screen_size</th>\n",
       "      <td>1.000</td>\n",
       "      <td>0.189</td>\n",
       "      <td>0.370</td>\n",
       "      <td>0.144</td>\n",
       "      <td>0.283</td>\n",
       "      <td>0.742</td>\n",
       "      <td>0.635</td>\n",
       "      <td>0.455</td>\n",
       "      <td>-0.397</td>\n",
       "      <td>0.342</td>\n",
       "      <td>0.386</td>\n",
       "    </tr>\n",
       "    <tr>\n",
       "      <th>main_camera_mp</th>\n",
       "      <td>0.189</td>\n",
       "      <td>1.000</td>\n",
       "      <td>0.424</td>\n",
       "      <td>0.004</td>\n",
       "      <td>0.207</td>\n",
       "      <td>0.240</td>\n",
       "      <td>-0.073</td>\n",
       "      <td>0.354</td>\n",
       "      <td>-0.143</td>\n",
       "      <td>0.360</td>\n",
       "      <td>0.281</td>\n",
       "    </tr>\n",
       "    <tr>\n",
       "      <th>selfie_camera_mp</th>\n",
       "      <td>0.370</td>\n",
       "      <td>0.424</td>\n",
       "      <td>1.000</td>\n",
       "      <td>0.283</td>\n",
       "      <td>0.445</td>\n",
       "      <td>0.345</td>\n",
       "      <td>-0.005</td>\n",
       "      <td>0.697</td>\n",
       "      <td>-0.556</td>\n",
       "      <td>0.399</td>\n",
       "      <td>0.498</td>\n",
       "    </tr>\n",
       "    <tr>\n",
       "      <th>int_memory</th>\n",
       "      <td>0.144</td>\n",
       "      <td>0.004</td>\n",
       "      <td>0.283</td>\n",
       "      <td>1.000</td>\n",
       "      <td>0.080</td>\n",
       "      <td>0.113</td>\n",
       "      <td>0.018</td>\n",
       "      <td>0.219</td>\n",
       "      <td>-0.229</td>\n",
       "      <td>0.343</td>\n",
       "      <td>0.405</td>\n",
       "    </tr>\n",
       "    <tr>\n",
       "      <th>ram</th>\n",
       "      <td>0.283</td>\n",
       "      <td>0.207</td>\n",
       "      <td>0.445</td>\n",
       "      <td>0.080</td>\n",
       "      <td>1.000</td>\n",
       "      <td>0.234</td>\n",
       "      <td>0.070</td>\n",
       "      <td>0.311</td>\n",
       "      <td>-0.287</td>\n",
       "      <td>0.443</td>\n",
       "      <td>0.523</td>\n",
       "    </tr>\n",
       "    <tr>\n",
       "      <th>battery</th>\n",
       "      <td>0.742</td>\n",
       "      <td>0.240</td>\n",
       "      <td>0.345</td>\n",
       "      <td>0.113</td>\n",
       "      <td>0.234</td>\n",
       "      <td>1.000</td>\n",
       "      <td>0.704</td>\n",
       "      <td>0.457</td>\n",
       "      <td>-0.351</td>\n",
       "      <td>0.342</td>\n",
       "      <td>0.364</td>\n",
       "    </tr>\n",
       "    <tr>\n",
       "      <th>weight</th>\n",
       "      <td>0.635</td>\n",
       "      <td>-0.073</td>\n",
       "      <td>-0.005</td>\n",
       "      <td>0.018</td>\n",
       "      <td>0.070</td>\n",
       "      <td>0.704</td>\n",
       "      <td>1.000</td>\n",
       "      <td>0.062</td>\n",
       "      <td>-0.059</td>\n",
       "      <td>0.198</td>\n",
       "      <td>0.171</td>\n",
       "    </tr>\n",
       "    <tr>\n",
       "      <th>release_year</th>\n",
       "      <td>0.455</td>\n",
       "      <td>0.354</td>\n",
       "      <td>0.697</td>\n",
       "      <td>0.219</td>\n",
       "      <td>0.311</td>\n",
       "      <td>0.457</td>\n",
       "      <td>0.062</td>\n",
       "      <td>1.000</td>\n",
       "      <td>-0.749</td>\n",
       "      <td>0.297</td>\n",
       "      <td>0.457</td>\n",
       "    </tr>\n",
       "    <tr>\n",
       "      <th>days_used</th>\n",
       "      <td>-0.397</td>\n",
       "      <td>-0.143</td>\n",
       "      <td>-0.556</td>\n",
       "      <td>-0.229</td>\n",
       "      <td>-0.287</td>\n",
       "      <td>-0.351</td>\n",
       "      <td>-0.059</td>\n",
       "      <td>-0.749</td>\n",
       "      <td>1.000</td>\n",
       "      <td>-0.236</td>\n",
       "      <td>-0.471</td>\n",
       "    </tr>\n",
       "    <tr>\n",
       "      <th>new_price</th>\n",
       "      <td>0.342</td>\n",
       "      <td>0.360</td>\n",
       "      <td>0.399</td>\n",
       "      <td>0.343</td>\n",
       "      <td>0.443</td>\n",
       "      <td>0.342</td>\n",
       "      <td>0.198</td>\n",
       "      <td>0.297</td>\n",
       "      <td>-0.236</td>\n",
       "      <td>1.000</td>\n",
       "      <td>0.926</td>\n",
       "    </tr>\n",
       "    <tr>\n",
       "      <th>used_price</th>\n",
       "      <td>0.386</td>\n",
       "      <td>0.281</td>\n",
       "      <td>0.498</td>\n",
       "      <td>0.405</td>\n",
       "      <td>0.523</td>\n",
       "      <td>0.364</td>\n",
       "      <td>0.171</td>\n",
       "      <td>0.457</td>\n",
       "      <td>-0.471</td>\n",
       "      <td>0.926</td>\n",
       "      <td>1.000</td>\n",
       "    </tr>\n",
       "  </tbody>\n",
       "</table>\n",
       "</div>"
      ],
      "text/plain": [
       "                  screen_size  main_camera_mp  selfie_camera_mp  int_memory  \\\n",
       "screen_size             1.000           0.189             0.370       0.144   \n",
       "main_camera_mp          0.189           1.000             0.424       0.004   \n",
       "selfie_camera_mp        0.370           0.424             1.000       0.283   \n",
       "int_memory              0.144           0.004             0.283       1.000   \n",
       "ram                     0.283           0.207             0.445       0.080   \n",
       "battery                 0.742           0.240             0.345       0.113   \n",
       "weight                  0.635          -0.073            -0.005       0.018   \n",
       "release_year            0.455           0.354             0.697       0.219   \n",
       "days_used              -0.397          -0.143            -0.556      -0.229   \n",
       "new_price               0.342           0.360             0.399       0.343   \n",
       "used_price              0.386           0.281             0.498       0.405   \n",
       "\n",
       "                    ram  battery  weight  release_year  days_used  new_price  \\\n",
       "screen_size       0.283    0.742   0.635         0.455     -0.397      0.342   \n",
       "main_camera_mp    0.207    0.240  -0.073         0.354     -0.143      0.360   \n",
       "selfie_camera_mp  0.445    0.345  -0.005         0.697     -0.556      0.399   \n",
       "int_memory        0.080    0.113   0.018         0.219     -0.229      0.343   \n",
       "ram               1.000    0.234   0.070         0.311     -0.287      0.443   \n",
       "battery           0.234    1.000   0.704         0.457     -0.351      0.342   \n",
       "weight            0.070    0.704   1.000         0.062     -0.059      0.198   \n",
       "release_year      0.311    0.457   0.062         1.000     -0.749      0.297   \n",
       "days_used        -0.287   -0.351  -0.059        -0.749      1.000     -0.236   \n",
       "new_price         0.443    0.342   0.198         0.297     -0.236      1.000   \n",
       "used_price        0.523    0.364   0.171         0.457     -0.471      0.926   \n",
       "\n",
       "                  used_price  \n",
       "screen_size            0.386  \n",
       "main_camera_mp         0.281  \n",
       "selfie_camera_mp       0.498  \n",
       "int_memory             0.405  \n",
       "ram                    0.523  \n",
       "battery                0.364  \n",
       "weight                 0.171  \n",
       "release_year           0.457  \n",
       "days_used             -0.471  \n",
       "new_price              0.926  \n",
       "used_price             1.000  "
      ]
     },
     "execution_count": 19,
     "metadata": {},
     "output_type": "execute_result"
    }
   ],
   "source": [
    "phone_data1.corr()"
   ]
  },
  {
   "cell_type": "code",
   "execution_count": 20,
   "id": "97ac5a5a",
   "metadata": {
    "scrolled": true
   },
   "outputs": [
    {
     "data": {
      "text/plain": [
       "screen_size         0.386\n",
       "main_camera_mp      0.281\n",
       "selfie_camera_mp    0.498\n",
       "int_memory          0.405\n",
       "ram                 0.523\n",
       "battery             0.364\n",
       "weight              0.171\n",
       "release_year        0.457\n",
       "days_used          -0.471\n",
       "new_price           0.926\n",
       "used_price          1.000\n",
       "Name: used_price, dtype: float64"
      ]
     },
     "execution_count": 20,
     "metadata": {},
     "output_type": "execute_result"
    }
   ],
   "source": [
    "phone_data1[phone_data1.columns[:]].corr()[\"used_price\"][:]"
   ]
  },
  {
   "cell_type": "markdown",
   "id": "9384f877",
   "metadata": {},
   "source": [
    "- There is a high correlation between new_price and old_price. This mean an increase in the price of new phone will give an increase in the price when it is sold as used.\n",
    "- The mp size of a selfie camera and size of ram has a postive impact in the used_price.\n",
    "- The weight is negatively correlated to the used price. i.e. the weight of a phone does not determine the price."
   ]
  },
  {
   "cell_type": "code",
   "execution_count": 21,
   "id": "4cb001a7",
   "metadata": {},
   "outputs": [
    {
     "data": {
      "text/plain": [
       "<AxesSubplot:>"
      ]
     },
     "execution_count": 21,
     "metadata": {},
     "output_type": "execute_result"
    },
    {
     "data": {
      "image/png": "[encoded data removed]",
      "text/plain": [
       "<Figure size 720x504 with 2 Axes>"
      ]
     },
     "metadata": {},
     "output_type": "display_data"
    }
   ],
   "source": [
    "plt.figure(figsize=(10,7))\n",
    "sns.heatmap(phone_data1.corr(), annot=True)"
   ]
  },
  {
   "cell_type": "markdown",
   "id": "e89f86ab",
   "metadata": {},
   "source": [
    "**Observation**\n",
    "\n",
    "* used price is highly positively correlated with new price which means as the price of new phones increased so will the price of same phone used also increases.\n",
    "* used price is highly negatively correlated with days used, which means as the number of days used increases the used price decreases."
   ]
  },
  {
   "cell_type": "code",
   "execution_count": 22,
   "id": "a5087f39",
   "metadata": {},
   "outputs": [
    {
     "data": {
      "text/plain": [
       "<AxesSubplot:xlabel='used_price', ylabel='days_used'>"
      ]
     },
     "execution_count": 22,
     "metadata": {},
     "output_type": "execute_result"
    },
    {
     "data": {
      "image/png": "[encoded data removed]",
      "text/plain": [
       "<Figure size 432x288 with 1 Axes>"
      ]
     },
     "metadata": {},
     "output_type": "display_data"
    }
   ],
   "source": [
    "# Relationship between days_used and used_price\n",
    "sns.scatterplot(phone_data1['used_price'], phone_data1['days_used'])"
   ]
  },
  {
   "cell_type": "markdown",
   "id": "6a649fae",
   "metadata": {},
   "source": [
    "- The more days a phone is used the cheaper it will be. "
   ]
  },
  {
   "cell_type": "markdown",
   "id": "e5fa7445",
   "metadata": {},
   "source": [
    "**Relationship between release_year and used_price**"
   ]
  },
  {
   "cell_type": "code",
   "execution_count": 23,
   "id": "e8367fcd",
   "metadata": {
    "scrolled": false
   },
   "outputs": [
    {
     "data": {
      "image/png": "[encoded data removed]",
      "text/plain": [
       "<Figure size 720x504 with 1 Axes>"
      ]
     },
     "metadata": {},
     "output_type": "display_data"
    }
   ],
   "source": [
    "# Plotting release_year count\n",
    "\n",
    "plt.figure(figsize=(10,7))\n",
    "sns.set_palette(\"muted\")\n",
    "ax = sns.countplot(phone_data['release_year'])\n",
    "plt.xlabel('release_year')\n",
    "plt.ylabel('Count')\n",
    "bar_perc(ax,phone_data['release_year'])\n",
    "ax.set_title(\"release_year Count\", fontsize=14);"
   ]
  },
  {
   "cell_type": "markdown",
   "id": "81257a3d",
   "metadata": {},
   "source": [
    "- 18.4% of phones in the data were released in 2014."
   ]
  },
  {
   "cell_type": "code",
   "execution_count": 24,
   "id": "d6b964ef",
   "metadata": {
    "scrolled": true
   },
   "outputs": [
    {
     "data": {
      "text/plain": [
       "<AxesSubplot:xlabel='used_price', ylabel='release_year'>"
      ]
     },
     "execution_count": 24,
     "metadata": {},
     "output_type": "execute_result"
    },
    {
     "data": {
      "image/png": "[encoded data removed]",
      "text/plain": [
       "<Figure size 432x288 with 1 Axes>"
      ]
     },
     "metadata": {},
     "output_type": "display_data"
    }
   ],
   "source": [
    "sns.scatterplot(phone_data1['used_price'], phone_data1['release_year'])"
   ]
  },
  {
   "cell_type": "markdown",
   "id": "ede6ec34",
   "metadata": {},
   "source": [
    "- The phone with the highest used_price was release in 2020. \n",
    "- This is understandable as most recent phones are always expensive."
   ]
  },
  {
   "cell_type": "markdown",
   "id": "898efa4f",
   "metadata": {},
   "source": [
    "### Data Preprocessing "
   ]
  },
  {
   "cell_type": "markdown",
   "id": "156b997f",
   "metadata": {},
   "source": [
    "**Missing Data Treatment**"
   ]
  },
  {
   "cell_type": "code",
   "execution_count": 25,
   "id": "b2dc2989",
   "metadata": {},
   "outputs": [],
   "source": [
    "# Impute categorical data using median\n",
    "\n",
    "medianFiller = lambda x: x.fillna(x.median())\n",
    "numeric_columns = phone_data.select_dtypes(include=np.number).columns.tolist()\n",
    "phone_data[numeric_columns] = phone_data[numeric_columns].apply(medianFiller, axis=0)"
   ]
  },
  {
   "cell_type": "code",
   "execution_count": 26,
   "id": "6fe3dc36",
   "metadata": {},
   "outputs": [
    {
     "data": {
      "text/plain": [
       "brand_name          0\n",
       "os                  0\n",
       "screen_size         0\n",
       "4g                  0\n",
       "5g                  0\n",
       "main_camera_mp      0\n",
       "selfie_camera_mp    0\n",
       "int_memory          0\n",
       "ram                 0\n",
       "battery             0\n",
       "weight              0\n",
       "release_year        0\n",
       "days_used           0\n",
       "new_price           0\n",
       "used_price          0\n",
       "dtype: int64"
      ]
     },
     "execution_count": 26,
     "metadata": {},
     "output_type": "execute_result"
    }
   ],
   "source": [
    "# checking the number of missing values\n",
    "phone_data.isnull().sum()"
   ]
  },
  {
   "cell_type": "markdown",
   "id": "380a6ba2",
   "metadata": {},
   "source": [
    "**No more missing values**"
   ]
  },
  {
   "cell_type": "markdown",
   "id": "695e86bb",
   "metadata": {},
   "source": [
    "### Outlier detection and treatment"
   ]
  },
  {
   "cell_type": "code",
   "execution_count": 27,
   "id": "38173110",
   "metadata": {},
   "outputs": [
    {
     "data": {
      "image/png": "[encoded data removed]",
      "text/plain": [
       "<Figure size 1440x2160 with 11 Axes>"
      ]
     },
     "metadata": {},
     "output_type": "display_data"
    }
   ],
   "source": [
    "# let's plot the boxplots of all columns to check for outliers\n",
    "plt.figure(figsize=(20, 30))\n",
    "\n",
    "for i, variable in enumerate(numeric_columns):\n",
    "    plt.subplot(5, 4, i + 1)\n",
    "    plt.boxplot(phone_data[variable], whis=1.5)\n",
    "    plt.tight_layout()\n",
    "    plt.title(variable)\n",
    "\n",
    "plt.show()"
   ]
  },
  {
   "cell_type": "markdown",
   "id": "9e51b60c",
   "metadata": {},
   "source": [
    "**Observations**\n",
    "\n",
    "* All columns have outliers except release year and days used \n",
    "* Weight and screen size have both upper and lower outliers\n"
   ]
  },
  {
   "cell_type": "markdown",
   "id": "bc35e439",
   "metadata": {},
   "source": [
    "### Outlier Treatment\n",
    "\n",
    "- Let's treat outliers in the data by flooring and capping."
   ]
  },
  {
   "cell_type": "code",
   "execution_count": 28,
   "id": "7968fe8b",
   "metadata": {},
   "outputs": [],
   "source": [
    "def treat_outliers(phone_data, col):\n",
    "    \"\"\"\n",
    "    treats outliers in a variable\n",
    "    col: str, name of the numerical variable\n",
    "    phone_data: dataframe\n",
    "    col: name of the column\n",
    "    \"\"\"\n",
    "    Q1 = phone_data[col].quantile(0.25)  # 25th quantile\n",
    "    Q3 = phone_data[col].quantile(0.75)  # 75th quantile\n",
    "    IQR = Q3 - Q1\n",
    "    Lower_Whisker = Q1 - 1.5 * IQR\n",
    "    Upper_Whisker = Q3 + 1.5 * IQR\n",
    "\n",
    "    # all the values smaller than Lower_Whisker will be assigned the value of Lower_Whisker\n",
    "    # all the values greater than Upper_Whisker will be assigned the value of Upper_Whisker\n",
    "    phone_data[col] = np.clip(phone_data[col], Lower_Whisker, Upper_Whisker)\n",
    "\n",
    "    return phone_data\n",
    "\n",
    "\n",
    "def treat_outliers_all(phone_data, col_list):\n",
    "    \"\"\"\n",
    "    treat outlier in all numerical variables\n",
    "    col_list: list of numerical variables\n",
    "    phone_data: data frame\n",
    "    \"\"\"\n",
    "    for c in col_list:\n",
    "        phone_data = treat_outliers(phone_data, c)\n",
    "\n",
    "    return phone_data"
   ]
  },
  {
   "cell_type": "code",
   "execution_count": 29,
   "id": "77589a4d",
   "metadata": {},
   "outputs": [],
   "source": [
    "# treating the outliers\n",
    "numerical_col = phone_data.select_dtypes(include=np.number).columns.tolist()\n",
    "phone_data = treat_outliers_all(phone_data, numerical_col)"
   ]
  },
  {
   "cell_type": "code",
   "execution_count": 30,
   "id": "6aa63592",
   "metadata": {
    "scrolled": true
   },
   "outputs": [
    {
     "data": {
      "image/png": "[encoded data removed]",
      "text/plain": [
       "<Figure size 1440x2160 with 11 Axes>"
      ]
     },
     "metadata": {},
     "output_type": "display_data"
    }
   ],
   "source": [
    "# let's look at the boxplots to see if the outliers have been treated or not\n",
    "plt.figure(figsize=(20, 30))\n",
    "\n",
    "for i, variable in enumerate(numeric_columns):\n",
    "    plt.subplot(5, 4, i + 1)\n",
    "    plt.boxplot(phone_data[variable], whis=1.5)\n",
    "    plt.tight_layout()\n",
    "    plt.title(variable)\n",
    "\n",
    "plt.show()"
   ]
  },
  {
   "cell_type": "markdown",
   "id": "9ff2bea1",
   "metadata": {},
   "source": [
    "**All outliers have been treatment.**"
   ]
  },
  {
   "cell_type": "markdown",
   "id": "6459f146",
   "metadata": {},
   "source": [
    "## Linear Model Building\n",
    "\n",
    "1. We want to predict the price of used phones.\n",
    "\n",
    "2. Before we proceed to build a model, we'll have to encode categorical features.\n",
    "\n",
    "3. We'll split the data into train and test to be able to evaluate the model that we build on the train data.\n",
    "\n",
    "4. We will build a Linear Regression model using the train data and then check it's performance."
   ]
  },
  {
   "cell_type": "code",
   "execution_count": 31,
   "id": "f0ac32d9",
   "metadata": {},
   "outputs": [
    {
     "name": "stdout",
     "output_type": "stream",
     "text": [
      "(3571, 14)\n",
      "(3571,)\n",
      "  brand_name       os  screen_size   4g   5g  main_camera_mp  \\\n",
      "0      Honor  Android       22.225  yes   no          13.000   \n",
      "1      Honor  Android       22.225  yes  yes          13.000   \n",
      "2      Honor  Android       22.225  yes  yes          13.000   \n",
      "3      Honor  Android       22.225  yes  yes          13.000   \n",
      "4      Honor  Android       15.720  yes   no          13.000   \n",
      "\n",
      "   selfie_camera_mp  int_memory   ram  battery  weight  release_year  \\\n",
      "0             5.000      64.000 4.000 3020.000 146.000          2020   \n",
      "1            16.000     128.000 4.000 4300.000 213.000          2020   \n",
      "2             8.000     128.000 4.000 4200.000 213.000          2020   \n",
      "3             8.000      64.000 4.000 6850.000 250.000          2020   \n",
      "4             8.000      64.000 4.000 5000.000 185.000          2020   \n",
      "\n",
      "   days_used  new_price  \n",
      "0        127    111.620  \n",
      "1        325    249.390  \n",
      "2        162    359.470  \n",
      "3        345    278.930  \n",
      "4        293    140.870  \n",
      "0    86.960\n",
      "1   161.490\n",
      "2   247.192\n",
      "3   180.230\n",
      "4   103.800\n",
      "Name: used_price, dtype: float64\n"
     ]
    }
   ],
   "source": [
    "# defining X and y variables\n",
    "X = phone_data.drop([\"used_price\"], axis=1)\n",
    "y = phone_data[\"used_price\"]\n",
    "\n",
    "print(X.shape)\n",
    "print(y.shape)\n",
    "\n",
    "print(X.head())\n",
    "print(y.head())"
   ]
  },
  {
   "cell_type": "code",
   "execution_count": 32,
   "id": "a51b5308",
   "metadata": {
    "scrolled": true
   },
   "outputs": [
    {
     "data": {
      "text/html": [
       "<div>\n",
       "<style scoped>\n",
       "    .dataframe tbody tr th:only-of-type {\n",
       "        vertical-align: middle;\n",
       "    }\n",
       "\n",
       "    .dataframe tbody tr th {\n",
       "        vertical-align: top;\n",
       "    }\n",
       "\n",
       "    .dataframe thead th {\n",
       "        text-align: right;\n",
       "    }\n",
       "</style>\n",
       "<table border=\"1\" class=\"dataframe\">\n",
       "  <thead>\n",
       "    <tr style=\"text-align: right;\">\n",
       "      <th></th>\n",
       "      <th>screen_size</th>\n",
       "      <th>main_camera_mp</th>\n",
       "      <th>selfie_camera_mp</th>\n",
       "      <th>int_memory</th>\n",
       "      <th>ram</th>\n",
       "      <th>battery</th>\n",
       "      <th>weight</th>\n",
       "      <th>release_year</th>\n",
       "      <th>days_used</th>\n",
       "      <th>new_price</th>\n",
       "      <th>brand_name_Alcatel</th>\n",
       "      <th>brand_name_Apple</th>\n",
       "      <th>brand_name_Asus</th>\n",
       "      <th>brand_name_BlackBerry</th>\n",
       "      <th>brand_name_Celkon</th>\n",
       "      <th>brand_name_Coolpad</th>\n",
       "      <th>brand_name_Gionee</th>\n",
       "      <th>brand_name_Google</th>\n",
       "      <th>brand_name_HTC</th>\n",
       "      <th>brand_name_Honor</th>\n",
       "      <th>brand_name_Huawei</th>\n",
       "      <th>brand_name_Infinix</th>\n",
       "      <th>brand_name_Karbonn</th>\n",
       "      <th>brand_name_LG</th>\n",
       "      <th>brand_name_Lava</th>\n",
       "      <th>brand_name_Lenovo</th>\n",
       "      <th>brand_name_Meizu</th>\n",
       "      <th>brand_name_Micromax</th>\n",
       "      <th>brand_name_Microsoft</th>\n",
       "      <th>brand_name_Motorola</th>\n",
       "      <th>brand_name_Nokia</th>\n",
       "      <th>brand_name_OnePlus</th>\n",
       "      <th>brand_name_Oppo</th>\n",
       "      <th>brand_name_Others</th>\n",
       "      <th>brand_name_Panasonic</th>\n",
       "      <th>brand_name_Realme</th>\n",
       "      <th>brand_name_Samsung</th>\n",
       "      <th>brand_name_Sony</th>\n",
       "      <th>brand_name_Spice</th>\n",
       "      <th>brand_name_Vivo</th>\n",
       "      <th>brand_name_XOLO</th>\n",
       "      <th>brand_name_Xiaomi</th>\n",
       "      <th>brand_name_ZTE</th>\n",
       "      <th>os_Others</th>\n",
       "      <th>os_Windows</th>\n",
       "      <th>os_iOS</th>\n",
       "      <th>4g_yes</th>\n",
       "      <th>5g_yes</th>\n",
       "    </tr>\n",
       "  </thead>\n",
       "  <tbody>\n",
       "    <tr>\n",
       "      <th>0</th>\n",
       "      <td>22.225</td>\n",
       "      <td>13.000</td>\n",
       "      <td>5.000</td>\n",
       "      <td>64.000</td>\n",
       "      <td>4.000</td>\n",
       "      <td>3020.000</td>\n",
       "      <td>146.000</td>\n",
       "      <td>2020</td>\n",
       "      <td>127</td>\n",
       "      <td>111.620</td>\n",
       "      <td>0</td>\n",
       "      <td>0</td>\n",
       "      <td>0</td>\n",
       "      <td>0</td>\n",
       "      <td>0</td>\n",
       "      <td>0</td>\n",
       "      <td>0</td>\n",
       "      <td>0</td>\n",
       "      <td>0</td>\n",
       "      <td>1</td>\n",
       "      <td>0</td>\n",
       "      <td>0</td>\n",
       "      <td>0</td>\n",
       "      <td>0</td>\n",
       "      <td>0</td>\n",
       "      <td>0</td>\n",
       "      <td>0</td>\n",
       "      <td>0</td>\n",
       "      <td>0</td>\n",
       "      <td>0</td>\n",
       "      <td>0</td>\n",
       "      <td>0</td>\n",
       "      <td>0</td>\n",
       "      <td>0</td>\n",
       "      <td>0</td>\n",
       "      <td>0</td>\n",
       "      <td>0</td>\n",
       "      <td>0</td>\n",
       "      <td>0</td>\n",
       "      <td>0</td>\n",
       "      <td>0</td>\n",
       "      <td>0</td>\n",
       "      <td>0</td>\n",
       "      <td>0</td>\n",
       "      <td>0</td>\n",
       "      <td>0</td>\n",
       "      <td>1</td>\n",
       "      <td>0</td>\n",
       "    </tr>\n",
       "    <tr>\n",
       "      <th>1</th>\n",
       "      <td>22.225</td>\n",
       "      <td>13.000</td>\n",
       "      <td>16.000</td>\n",
       "      <td>128.000</td>\n",
       "      <td>4.000</td>\n",
       "      <td>4300.000</td>\n",
       "      <td>213.000</td>\n",
       "      <td>2020</td>\n",
       "      <td>325</td>\n",
       "      <td>249.390</td>\n",
       "      <td>0</td>\n",
       "      <td>0</td>\n",
       "      <td>0</td>\n",
       "      <td>0</td>\n",
       "      <td>0</td>\n",
       "      <td>0</td>\n",
       "      <td>0</td>\n",
       "      <td>0</td>\n",
       "      <td>0</td>\n",
       "      <td>1</td>\n",
       "      <td>0</td>\n",
       "      <td>0</td>\n",
       "      <td>0</td>\n",
       "      <td>0</td>\n",
       "      <td>0</td>\n",
       "      <td>0</td>\n",
       "      <td>0</td>\n",
       "      <td>0</td>\n",
       "      <td>0</td>\n",
       "      <td>0</td>\n",
       "      <td>0</td>\n",
       "      <td>0</td>\n",
       "      <td>0</td>\n",
       "      <td>0</td>\n",
       "      <td>0</td>\n",
       "      <td>0</td>\n",
       "      <td>0</td>\n",
       "      <td>0</td>\n",
       "      <td>0</td>\n",
       "      <td>0</td>\n",
       "      <td>0</td>\n",
       "      <td>0</td>\n",
       "      <td>0</td>\n",
       "      <td>0</td>\n",
       "      <td>0</td>\n",
       "      <td>0</td>\n",
       "      <td>1</td>\n",
       "      <td>1</td>\n",
       "    </tr>\n",
       "    <tr>\n",
       "      <th>2</th>\n",
       "      <td>22.225</td>\n",
       "      <td>13.000</td>\n",
       "      <td>8.000</td>\n",
       "      <td>128.000</td>\n",
       "      <td>4.000</td>\n",
       "      <td>4200.000</td>\n",
       "      <td>213.000</td>\n",
       "      <td>2020</td>\n",
       "      <td>162</td>\n",
       "      <td>359.470</td>\n",
       "      <td>0</td>\n",
       "      <td>0</td>\n",
       "      <td>0</td>\n",
       "      <td>0</td>\n",
       "      <td>0</td>\n",
       "      <td>0</td>\n",
       "      <td>0</td>\n",
       "      <td>0</td>\n",
       "      <td>0</td>\n",
       "      <td>1</td>\n",
       "      <td>0</td>\n",
       "      <td>0</td>\n",
       "      <td>0</td>\n",
       "      <td>0</td>\n",
       "      <td>0</td>\n",
       "      <td>0</td>\n",
       "      <td>0</td>\n",
       "      <td>0</td>\n",
       "      <td>0</td>\n",
       "      <td>0</td>\n",
       "      <td>0</td>\n",
       "      <td>0</td>\n",
       "      <td>0</td>\n",
       "      <td>0</td>\n",
       "      <td>0</td>\n",
       "      <td>0</td>\n",
       "      <td>0</td>\n",
       "      <td>0</td>\n",
       "      <td>0</td>\n",
       "      <td>0</td>\n",
       "      <td>0</td>\n",
       "      <td>0</td>\n",
       "      <td>0</td>\n",
       "      <td>0</td>\n",
       "      <td>0</td>\n",
       "      <td>0</td>\n",
       "      <td>1</td>\n",
       "      <td>1</td>\n",
       "    </tr>\n",
       "    <tr>\n",
       "      <th>3</th>\n",
       "      <td>22.225</td>\n",
       "      <td>13.000</td>\n",
       "      <td>8.000</td>\n",
       "      <td>64.000</td>\n",
       "      <td>4.000</td>\n",
       "      <td>6850.000</td>\n",
       "      <td>250.000</td>\n",
       "      <td>2020</td>\n",
       "      <td>345</td>\n",
       "      <td>278.930</td>\n",
       "      <td>0</td>\n",
       "      <td>0</td>\n",
       "      <td>0</td>\n",
       "      <td>0</td>\n",
       "      <td>0</td>\n",
       "      <td>0</td>\n",
       "      <td>0</td>\n",
       "      <td>0</td>\n",
       "      <td>0</td>\n",
       "      <td>1</td>\n",
       "      <td>0</td>\n",
       "      <td>0</td>\n",
       "      <td>0</td>\n",
       "      <td>0</td>\n",
       "      <td>0</td>\n",
       "      <td>0</td>\n",
       "      <td>0</td>\n",
       "      <td>0</td>\n",
       "      <td>0</td>\n",
       "      <td>0</td>\n",
       "      <td>0</td>\n",
       "      <td>0</td>\n",
       "      <td>0</td>\n",
       "      <td>0</td>\n",
       "      <td>0</td>\n",
       "      <td>0</td>\n",
       "      <td>0</td>\n",
       "      <td>0</td>\n",
       "      <td>0</td>\n",
       "      <td>0</td>\n",
       "      <td>0</td>\n",
       "      <td>0</td>\n",
       "      <td>0</td>\n",
       "      <td>0</td>\n",
       "      <td>0</td>\n",
       "      <td>0</td>\n",
       "      <td>1</td>\n",
       "      <td>1</td>\n",
       "    </tr>\n",
       "    <tr>\n",
       "      <th>4</th>\n",
       "      <td>15.720</td>\n",
       "      <td>13.000</td>\n",
       "      <td>8.000</td>\n",
       "      <td>64.000</td>\n",
       "      <td>4.000</td>\n",
       "      <td>5000.000</td>\n",
       "      <td>185.000</td>\n",
       "      <td>2020</td>\n",
       "      <td>293</td>\n",
       "      <td>140.870</td>\n",
       "      <td>0</td>\n",
       "      <td>0</td>\n",
       "      <td>0</td>\n",
       "      <td>0</td>\n",
       "      <td>0</td>\n",
       "      <td>0</td>\n",
       "      <td>0</td>\n",
       "      <td>0</td>\n",
       "      <td>0</td>\n",
       "      <td>1</td>\n",
       "      <td>0</td>\n",
       "      <td>0</td>\n",
       "      <td>0</td>\n",
       "      <td>0</td>\n",
       "      <td>0</td>\n",
       "      <td>0</td>\n",
       "      <td>0</td>\n",
       "      <td>0</td>\n",
       "      <td>0</td>\n",
       "      <td>0</td>\n",
       "      <td>0</td>\n",
       "      <td>0</td>\n",
       "      <td>0</td>\n",
       "      <td>0</td>\n",
       "      <td>0</td>\n",
       "      <td>0</td>\n",
       "      <td>0</td>\n",
       "      <td>0</td>\n",
       "      <td>0</td>\n",
       "      <td>0</td>\n",
       "      <td>0</td>\n",
       "      <td>0</td>\n",
       "      <td>0</td>\n",
       "      <td>0</td>\n",
       "      <td>0</td>\n",
       "      <td>0</td>\n",
       "      <td>1</td>\n",
       "      <td>0</td>\n",
       "    </tr>\n",
       "  </tbody>\n",
       "</table>\n",
       "</div>"
      ],
      "text/plain": [
       "   screen_size  main_camera_mp  selfie_camera_mp  int_memory   ram  battery  \\\n",
       "0       22.225          13.000             5.000      64.000 4.000 3020.000   \n",
       "1       22.225          13.000            16.000     128.000 4.000 4300.000   \n",
       "2       22.225          13.000             8.000     128.000 4.000 4200.000   \n",
       "3       22.225          13.000             8.000      64.000 4.000 6850.000   \n",
       "4       15.720          13.000             8.000      64.000 4.000 5000.000   \n",
       "\n",
       "   weight  release_year  days_used  new_price  brand_name_Alcatel  \\\n",
       "0 146.000          2020        127    111.620                   0   \n",
       "1 213.000          2020        325    249.390                   0   \n",
       "2 213.000          2020        162    359.470                   0   \n",
       "3 250.000          2020        345    278.930                   0   \n",
       "4 185.000          2020        293    140.870                   0   \n",
       "\n",
       "   brand_name_Apple  brand_name_Asus  brand_name_BlackBerry  \\\n",
       "0                 0                0                      0   \n",
       "1                 0                0                      0   \n",
       "2                 0                0                      0   \n",
       "3                 0                0                      0   \n",
       "4                 0                0                      0   \n",
       "\n",
       "   brand_name_Celkon  brand_name_Coolpad  brand_name_Gionee  \\\n",
       "0                  0                   0                  0   \n",
       "1                  0                   0                  0   \n",
       "2                  0                   0                  0   \n",
       "3                  0                   0                  0   \n",
       "4                  0                   0                  0   \n",
       "\n",
       "   brand_name_Google  brand_name_HTC  brand_name_Honor  brand_name_Huawei  \\\n",
       "0                  0               0                 1                  0   \n",
       "1                  0               0                 1                  0   \n",
       "2                  0               0                 1                  0   \n",
       "3                  0               0                 1                  0   \n",
       "4                  0               0                 1                  0   \n",
       "\n",
       "   brand_name_Infinix  brand_name_Karbonn  brand_name_LG  brand_name_Lava  \\\n",
       "0                   0                   0              0                0   \n",
       "1                   0                   0              0                0   \n",
       "2                   0                   0              0                0   \n",
       "3                   0                   0              0                0   \n",
       "4                   0                   0              0                0   \n",
       "\n",
       "   brand_name_Lenovo  brand_name_Meizu  brand_name_Micromax  \\\n",
       "0                  0                 0                    0   \n",
       "1                  0                 0                    0   \n",
       "2                  0                 0                    0   \n",
       "3                  0                 0                    0   \n",
       "4                  0                 0                    0   \n",
       "\n",
       "   brand_name_Microsoft  brand_name_Motorola  brand_name_Nokia  \\\n",
       "0                     0                    0                 0   \n",
       "1                     0                    0                 0   \n",
       "2                     0                    0                 0   \n",
       "3                     0                    0                 0   \n",
       "4                     0                    0                 0   \n",
       "\n",
       "   brand_name_OnePlus  brand_name_Oppo  brand_name_Others  \\\n",
       "0                   0                0                  0   \n",
       "1                   0                0                  0   \n",
       "2                   0                0                  0   \n",
       "3                   0                0                  0   \n",
       "4                   0                0                  0   \n",
       "\n",
       "   brand_name_Panasonic  brand_name_Realme  brand_name_Samsung  \\\n",
       "0                     0                  0                   0   \n",
       "1                     0                  0                   0   \n",
       "2                     0                  0                   0   \n",
       "3                     0                  0                   0   \n",
       "4                     0                  0                   0   \n",
       "\n",
       "   brand_name_Sony  brand_name_Spice  brand_name_Vivo  brand_name_XOLO  \\\n",
       "0                0                 0                0                0   \n",
       "1                0                 0                0                0   \n",
       "2                0                 0                0                0   \n",
       "3                0                 0                0                0   \n",
       "4                0                 0                0                0   \n",
       "\n",
       "   brand_name_Xiaomi  brand_name_ZTE  os_Others  os_Windows  os_iOS  4g_yes  \\\n",
       "0                  0               0          0           0       0       1   \n",
       "1                  0               0          0           0       0       1   \n",
       "2                  0               0          0           0       0       1   \n",
       "3                  0               0          0           0       0       1   \n",
       "4                  0               0          0           0       0       1   \n",
       "\n",
       "   5g_yes  \n",
       "0       0  \n",
       "1       1  \n",
       "2       1  \n",
       "3       1  \n",
       "4       0  "
      ]
     },
     "execution_count": 32,
     "metadata": {},
     "output_type": "execute_result"
    }
   ],
   "source": [
    "# converting categorical variables to numerical\n",
    "X = pd.get_dummies(\n",
    "    X,\n",
    "    columns=X.select_dtypes(include=[\"object\", \"category\"]).columns.tolist(),\n",
    "    drop_first=True,\n",
    ")\n",
    "\n",
    "\n",
    "X.head()"
   ]
  },
  {
   "cell_type": "code",
   "execution_count": 33,
   "id": "71ea23e1",
   "metadata": {},
   "outputs": [
    {
     "name": "stdout",
     "output_type": "stream",
     "text": [
      "(3571, 48)\n"
     ]
    }
   ],
   "source": [
    "print(X.shape)"
   ]
  },
  {
   "cell_type": "code",
   "execution_count": 34,
   "id": "58e5bf77",
   "metadata": {},
   "outputs": [],
   "source": [
    "# splitting the data in 70:30 ratio for train to test data\n",
    "\n",
    "x_train, x_test, y_train, y_test = train_test_split(\n",
    "    X, y, test_size=0.3, random_state=1\n",
    ")"
   ]
  },
  {
   "cell_type": "code",
   "execution_count": 35,
   "id": "b1d10981",
   "metadata": {},
   "outputs": [
    {
     "name": "stdout",
     "output_type": "stream",
     "text": [
      "Number of rows in train data = 2499\n",
      "Number of rows in test data = 1072\n"
     ]
    }
   ],
   "source": [
    "print(\"Number of rows in train data =\", x_train.shape[0])\n",
    "print(\"Number of rows in test data =\", x_test.shape[0])"
   ]
  },
  {
   "cell_type": "code",
   "execution_count": 36,
   "id": "40b91cea",
   "metadata": {},
   "outputs": [
    {
     "data": {
      "text/plain": [
       "LinearRegression()"
      ]
     },
     "execution_count": 36,
     "metadata": {},
     "output_type": "execute_result"
    }
   ],
   "source": [
    "# fitting the model on the train data (70% of the whole data)\n",
    "from sklearn.linear_model import LinearRegression\n",
    "\n",
    "linearregression = LinearRegression()\n",
    "linearregression.fit(x_train, y_train)"
   ]
  },
  {
   "cell_type": "markdown",
   "id": "82519c9d",
   "metadata": {},
   "source": [
    "**Let's check the coefficients and intercept of the model.**"
   ]
  },
  {
   "cell_type": "code",
   "execution_count": 37,
   "id": "0920d98d",
   "metadata": {},
   "outputs": [
    {
     "data": {
      "text/html": [
       "<div>\n",
       "<style scoped>\n",
       "    .dataframe tbody tr th:only-of-type {\n",
       "        vertical-align: middle;\n",
       "    }\n",
       "\n",
       "    .dataframe tbody tr th {\n",
       "        vertical-align: top;\n",
       "    }\n",
       "\n",
       "    .dataframe thead th {\n",
       "        text-align: right;\n",
       "    }\n",
       "</style>\n",
       "<table border=\"1\" class=\"dataframe\">\n",
       "  <thead>\n",
       "    <tr style=\"text-align: right;\">\n",
       "      <th></th>\n",
       "      <th>Coefficients</th>\n",
       "    </tr>\n",
       "  </thead>\n",
       "  <tbody>\n",
       "    <tr>\n",
       "      <th>screen_size</th>\n",
       "      <td>0.404</td>\n",
       "    </tr>\n",
       "    <tr>\n",
       "      <th>main_camera_mp</th>\n",
       "      <td>-0.439</td>\n",
       "    </tr>\n",
       "    <tr>\n",
       "      <th>selfie_camera_mp</th>\n",
       "      <td>0.837</td>\n",
       "    </tr>\n",
       "    <tr>\n",
       "      <th>int_memory</th>\n",
       "      <td>0.106</td>\n",
       "    </tr>\n",
       "    <tr>\n",
       "      <th>ram</th>\n",
       "      <td>-0.000</td>\n",
       "    </tr>\n",
       "    <tr>\n",
       "      <th>battery</th>\n",
       "      <td>-0.000</td>\n",
       "    </tr>\n",
       "    <tr>\n",
       "      <th>weight</th>\n",
       "      <td>-0.016</td>\n",
       "    </tr>\n",
       "    <tr>\n",
       "      <th>release_year</th>\n",
       "      <td>-0.293</td>\n",
       "    </tr>\n",
       "    <tr>\n",
       "      <th>days_used</th>\n",
       "      <td>-0.084</td>\n",
       "    </tr>\n",
       "    <tr>\n",
       "      <th>new_price</th>\n",
       "      <td>0.380</td>\n",
       "    </tr>\n",
       "    <tr>\n",
       "      <th>brand_name_Alcatel</th>\n",
       "      <td>1.845</td>\n",
       "    </tr>\n",
       "    <tr>\n",
       "      <th>brand_name_Apple</th>\n",
       "      <td>-13.768</td>\n",
       "    </tr>\n",
       "    <tr>\n",
       "      <th>brand_name_Asus</th>\n",
       "      <td>2.491</td>\n",
       "    </tr>\n",
       "    <tr>\n",
       "      <th>brand_name_BlackBerry</th>\n",
       "      <td>10.781</td>\n",
       "    </tr>\n",
       "    <tr>\n",
       "      <th>brand_name_Celkon</th>\n",
       "      <td>-3.546</td>\n",
       "    </tr>\n",
       "    <tr>\n",
       "      <th>brand_name_Coolpad</th>\n",
       "      <td>2.405</td>\n",
       "    </tr>\n",
       "    <tr>\n",
       "      <th>brand_name_Gionee</th>\n",
       "      <td>-3.804</td>\n",
       "    </tr>\n",
       "    <tr>\n",
       "      <th>brand_name_Google</th>\n",
       "      <td>16.376</td>\n",
       "    </tr>\n",
       "    <tr>\n",
       "      <th>brand_name_HTC</th>\n",
       "      <td>0.752</td>\n",
       "    </tr>\n",
       "    <tr>\n",
       "      <th>brand_name_Honor</th>\n",
       "      <td>-0.402</td>\n",
       "    </tr>\n",
       "    <tr>\n",
       "      <th>brand_name_Huawei</th>\n",
       "      <td>0.324</td>\n",
       "    </tr>\n",
       "    <tr>\n",
       "      <th>brand_name_Infinix</th>\n",
       "      <td>-15.980</td>\n",
       "    </tr>\n",
       "    <tr>\n",
       "      <th>brand_name_Karbonn</th>\n",
       "      <td>-0.628</td>\n",
       "    </tr>\n",
       "    <tr>\n",
       "      <th>brand_name_LG</th>\n",
       "      <td>2.882</td>\n",
       "    </tr>\n",
       "    <tr>\n",
       "      <th>brand_name_Lava</th>\n",
       "      <td>0.871</td>\n",
       "    </tr>\n",
       "    <tr>\n",
       "      <th>brand_name_Lenovo</th>\n",
       "      <td>-2.035</td>\n",
       "    </tr>\n",
       "    <tr>\n",
       "      <th>brand_name_Meizu</th>\n",
       "      <td>-0.352</td>\n",
       "    </tr>\n",
       "    <tr>\n",
       "      <th>brand_name_Micromax</th>\n",
       "      <td>3.431</td>\n",
       "    </tr>\n",
       "    <tr>\n",
       "      <th>brand_name_Microsoft</th>\n",
       "      <td>1.858</td>\n",
       "    </tr>\n",
       "    <tr>\n",
       "      <th>brand_name_Motorola</th>\n",
       "      <td>-1.763</td>\n",
       "    </tr>\n",
       "    <tr>\n",
       "      <th>brand_name_Nokia</th>\n",
       "      <td>-7.416</td>\n",
       "    </tr>\n",
       "    <tr>\n",
       "      <th>brand_name_OnePlus</th>\n",
       "      <td>-15.397</td>\n",
       "    </tr>\n",
       "    <tr>\n",
       "      <th>brand_name_Oppo</th>\n",
       "      <td>-1.751</td>\n",
       "    </tr>\n",
       "    <tr>\n",
       "      <th>brand_name_Others</th>\n",
       "      <td>0.951</td>\n",
       "    </tr>\n",
       "    <tr>\n",
       "      <th>brand_name_Panasonic</th>\n",
       "      <td>-1.416</td>\n",
       "    </tr>\n",
       "    <tr>\n",
       "      <th>brand_name_Realme</th>\n",
       "      <td>-2.066</td>\n",
       "    </tr>\n",
       "    <tr>\n",
       "      <th>brand_name_Samsung</th>\n",
       "      <td>1.397</td>\n",
       "    </tr>\n",
       "    <tr>\n",
       "      <th>brand_name_Sony</th>\n",
       "      <td>4.147</td>\n",
       "    </tr>\n",
       "    <tr>\n",
       "      <th>brand_name_Spice</th>\n",
       "      <td>4.962</td>\n",
       "    </tr>\n",
       "    <tr>\n",
       "      <th>brand_name_Vivo</th>\n",
       "      <td>1.023</td>\n",
       "    </tr>\n",
       "    <tr>\n",
       "      <th>brand_name_XOLO</th>\n",
       "      <td>3.272</td>\n",
       "    </tr>\n",
       "    <tr>\n",
       "      <th>brand_name_Xiaomi</th>\n",
       "      <td>-1.392</td>\n",
       "    </tr>\n",
       "    <tr>\n",
       "      <th>brand_name_ZTE</th>\n",
       "      <td>0.938</td>\n",
       "    </tr>\n",
       "    <tr>\n",
       "      <th>os_Others</th>\n",
       "      <td>-4.103</td>\n",
       "    </tr>\n",
       "    <tr>\n",
       "      <th>os_Windows</th>\n",
       "      <td>0.918</td>\n",
       "    </tr>\n",
       "    <tr>\n",
       "      <th>os_iOS</th>\n",
       "      <td>24.721</td>\n",
       "    </tr>\n",
       "    <tr>\n",
       "      <th>4g_yes</th>\n",
       "      <td>-1.686</td>\n",
       "    </tr>\n",
       "    <tr>\n",
       "      <th>5g_yes</th>\n",
       "      <td>2.469</td>\n",
       "    </tr>\n",
       "    <tr>\n",
       "      <th>Intercept</th>\n",
       "      <td>650.684</td>\n",
       "    </tr>\n",
       "  </tbody>\n",
       "</table>\n",
       "</div>"
      ],
      "text/plain": [
       "                       Coefficients\n",
       "screen_size                   0.404\n",
       "main_camera_mp               -0.439\n",
       "selfie_camera_mp              0.837\n",
       "int_memory                    0.106\n",
       "ram                          -0.000\n",
       "battery                      -0.000\n",
       "weight                       -0.016\n",
       "release_year                 -0.293\n",
       "days_used                    -0.084\n",
       "new_price                     0.380\n",
       "brand_name_Alcatel            1.845\n",
       "brand_name_Apple            -13.768\n",
       "brand_name_Asus               2.491\n",
       "brand_name_BlackBerry        10.781\n",
       "brand_name_Celkon            -3.546\n",
       "brand_name_Coolpad            2.405\n",
       "brand_name_Gionee            -3.804\n",
       "brand_name_Google            16.376\n",
       "brand_name_HTC                0.752\n",
       "brand_name_Honor             -0.402\n",
       "brand_name_Huawei             0.324\n",
       "brand_name_Infinix          -15.980\n",
       "brand_name_Karbonn           -0.628\n",
       "brand_name_LG                 2.882\n",
       "brand_name_Lava               0.871\n",
       "brand_name_Lenovo            -2.035\n",
       "brand_name_Meizu             -0.352\n",
       "brand_name_Micromax           3.431\n",
       "brand_name_Microsoft          1.858\n",
       "brand_name_Motorola          -1.763\n",
       "brand_name_Nokia             -7.416\n",
       "brand_name_OnePlus          -15.397\n",
       "brand_name_Oppo              -1.751\n",
       "brand_name_Others             0.951\n",
       "brand_name_Panasonic         -1.416\n",
       "brand_name_Realme            -2.066\n",
       "brand_name_Samsung            1.397\n",
       "brand_name_Sony               4.147\n",
       "brand_name_Spice              4.962\n",
       "brand_name_Vivo               1.023\n",
       "brand_name_XOLO               3.272\n",
       "brand_name_Xiaomi            -1.392\n",
       "brand_name_ZTE                0.938\n",
       "os_Others                    -4.103\n",
       "os_Windows                    0.918\n",
       "os_iOS                       24.721\n",
       "4g_yes                       -1.686\n",
       "5g_yes                        2.469\n",
       "Intercept                   650.684"
      ]
     },
     "execution_count": 37,
     "metadata": {},
     "output_type": "execute_result"
    }
   ],
   "source": [
    "coef_phone_data = pd.DataFrame(\n",
    "    np.append(linearregression.coef_, linearregression.intercept_),\n",
    "    index=x_train.columns.tolist() + [\"Intercept\"],\n",
    "    columns=[\"Coefficients\"],\n",
    ")\n",
    "\n",
    "coef_phone_data"
   ]
  },
  {
   "cell_type": "markdown",
   "id": "ad5c4e36",
   "metadata": {},
   "source": [
    "**Let's check the performance of the model using different metrics.**\n",
    "\n",
    "* We will be using metric functions defined in sklearn for RMSE, MAE, and $R^2$.\n",
    "* We will define a function to calculate MAPE and adjusted $R^2$.\n",
    "    - The mean absolute percentage error (MAPE) measures the accuracy of predictions as a percentage, and can be calculated as the average absolute percent error for each predicted value minus actual values divided by actual values. It works best if there are no extreme values in the data and none of the actual values are 0.\n",
    "    \n",
    "* We will create a function which will print out all the above metrics in one go."
   ]
  },
  {
   "cell_type": "code",
   "execution_count": 38,
   "id": "ad5ece47",
   "metadata": {},
   "outputs": [],
   "source": [
    "# function to compute adjusted R-squared\n",
    "def adj_r2_score(predictors, targets, predictions):\n",
    "    r2 = r2_score(targets, predictions)\n",
    "    n = predictors.shape[0]\n",
    "    k = predictors.shape[1]\n",
    "    return 1 - ((1 - r2) * (n - 1) / (n - k - 1))\n",
    "\n",
    "\n",
    "# function to compute MAPE\n",
    "def mape_score(targets, predictions):\n",
    "    return np.mean(np.abs(targets - predictions) / targets) * 100\n",
    "\n",
    "\n",
    "# function to compute different metrics to check performance of a regression model\n",
    "def model_performance_regression(model, predictors, target):\n",
    "    \"\"\"\n",
    "    Function to compute different metrics to check regression model performance\n",
    "\n",
    "    model: regressor\n",
    "    predictors: independent variables\n",
    "    target: dependent variable\n",
    "    \"\"\"\n",
    "\n",
    "    # predicting using the independent variables\n",
    "    pred = model.predict(predictors)\n",
    "\n",
    "    r2 = r2_score(target, pred)  # to compute R-squared\n",
    "    adjr2 = adj_r2_score(predictors, target, pred)  # to compute adjusted R-squared\n",
    "    rmse = np.sqrt(mean_squared_error(target, pred))  # to compute RMSE\n",
    "    mae = mean_absolute_error(target, pred)  # to compute MAE\n",
    "    mape = mape_score(target, pred)  # to compute MAPE\n",
    "\n",
    "    # creating a dataframe of metrics\n",
    "    phone_data_perf = pd.DataFrame(\n",
    "        {\n",
    "            \"RMSE\": rmse,\n",
    "            \"MAE\": mae,\n",
    "            \"R-squared\": r2,\n",
    "            \"Adj. R-squared\": adjr2,\n",
    "            \"MAPE\": mape,\n",
    "        },\n",
    "        index=[0],\n",
    "    )\n",
    "\n",
    "    return phone_data_perf"
   ]
  },
  {
   "cell_type": "code",
   "execution_count": 39,
   "id": "3a22060d",
   "metadata": {},
   "outputs": [
    {
     "name": "stdout",
     "output_type": "stream",
     "text": [
      "Training Performance\n",
      "\n"
     ]
    },
    {
     "data": {
      "text/html": [
       "<div>\n",
       "<style scoped>\n",
       "    .dataframe tbody tr th:only-of-type {\n",
       "        vertical-align: middle;\n",
       "    }\n",
       "\n",
       "    .dataframe tbody tr th {\n",
       "        vertical-align: top;\n",
       "    }\n",
       "\n",
       "    .dataframe thead th {\n",
       "        text-align: right;\n",
       "    }\n",
       "</style>\n",
       "<table border=\"1\" class=\"dataframe\">\n",
       "  <thead>\n",
       "    <tr style=\"text-align: right;\">\n",
       "      <th></th>\n",
       "      <th>RMSE</th>\n",
       "      <th>MAE</th>\n",
       "      <th>R-squared</th>\n",
       "      <th>Adj. R-squared</th>\n",
       "      <th>MAPE</th>\n",
       "    </tr>\n",
       "  </thead>\n",
       "  <tbody>\n",
       "    <tr>\n",
       "      <th>0</th>\n",
       "      <td>13.685</td>\n",
       "      <td>10.127</td>\n",
       "      <td>0.957</td>\n",
       "      <td>0.956</td>\n",
       "      <td>17.780</td>\n",
       "    </tr>\n",
       "  </tbody>\n",
       "</table>\n",
       "</div>"
      ],
      "text/plain": [
       "    RMSE    MAE  R-squared  Adj. R-squared   MAPE\n",
       "0 13.685 10.127      0.957           0.956 17.780"
      ]
     },
     "execution_count": 39,
     "metadata": {},
     "output_type": "execute_result"
    }
   ],
   "source": [
    "# checking model performance on train set (seen 70% data)\n",
    "print(\"Training Performance\\n\")\n",
    "linearregression_train_perf = model_performance_regression(\n",
    "    linearregression, x_train, y_train\n",
    ")\n",
    "linearregression_train_perf"
   ]
  },
  {
   "cell_type": "code",
   "execution_count": 40,
   "id": "fe4399a3",
   "metadata": {
    "scrolled": true
   },
   "outputs": [
    {
     "name": "stdout",
     "output_type": "stream",
     "text": [
      "Test Performance\n",
      "\n"
     ]
    },
    {
     "data": {
      "text/html": [
       "<div>\n",
       "<style scoped>\n",
       "    .dataframe tbody tr th:only-of-type {\n",
       "        vertical-align: middle;\n",
       "    }\n",
       "\n",
       "    .dataframe tbody tr th {\n",
       "        vertical-align: top;\n",
       "    }\n",
       "\n",
       "    .dataframe thead th {\n",
       "        text-align: right;\n",
       "    }\n",
       "</style>\n",
       "<table border=\"1\" class=\"dataframe\">\n",
       "  <thead>\n",
       "    <tr style=\"text-align: right;\">\n",
       "      <th></th>\n",
       "      <th>RMSE</th>\n",
       "      <th>MAE</th>\n",
       "      <th>R-squared</th>\n",
       "      <th>Adj. R-squared</th>\n",
       "      <th>MAPE</th>\n",
       "    </tr>\n",
       "  </thead>\n",
       "  <tbody>\n",
       "    <tr>\n",
       "      <th>0</th>\n",
       "      <td>14.541</td>\n",
       "      <td>10.520</td>\n",
       "      <td>0.952</td>\n",
       "      <td>0.949</td>\n",
       "      <td>18.456</td>\n",
       "    </tr>\n",
       "  </tbody>\n",
       "</table>\n",
       "</div>"
      ],
      "text/plain": [
       "    RMSE    MAE  R-squared  Adj. R-squared   MAPE\n",
       "0 14.541 10.520      0.952           0.949 18.456"
      ]
     },
     "execution_count": 40,
     "metadata": {},
     "output_type": "execute_result"
    }
   ],
   "source": [
    "# checking model performance on test set (seen 30% data)\n",
    "print(\"Test Performance\\n\")\n",
    "linearregression_test_perf = model_performance_regression(\n",
    "    linearregression, x_test, y_test\n",
    ")\n",
    "linearregression_test_perf"
   ]
  },
  {
   "cell_type": "markdown",
   "id": "ea2c7bac",
   "metadata": {},
   "source": [
    "**Observations**\n",
    "\n",
    "- The training $R^2$ is 95.7%, indicating that the model explains 95.7% of the variation in the train data. So, the model is not underfitting.\n",
    "\n",
    "- MAE and RMSE on the train and test sets are comparable, which shows that the model is not overfitting.\n",
    "\n",
    "- MAE indicates that our current model is able to predict life expectancy within a mean error of 2.7 years on the test data.\n",
    "\n",
    "- MAPE on the test set suggests we can predict within 18% of the used_price."
   ]
  },
  {
   "cell_type": "markdown",
   "id": "626fcb58",
   "metadata": {},
   "source": [
    "## Linear Regression using statsmodels\n",
    "\n",
    "- Let's build a linear regression model using statsmodels."
   ]
  },
  {
   "cell_type": "code",
   "execution_count": 41,
   "id": "47cbc559",
   "metadata": {},
   "outputs": [
    {
     "name": "stdout",
     "output_type": "stream",
     "text": [
      "                            OLS Regression Results                            \n",
      "==============================================================================\n",
      "Dep. Variable:             used_price   R-squared:                       0.957\n",
      "Model:                            OLS   Adj. R-squared:                  0.956\n",
      "Method:                 Least Squares   F-statistic:                     1166.\n",
      "Date:                Sat, 21 Aug 2021   Prob (F-statistic):               0.00\n",
      "Time:                        00:54:49   Log-Likelihood:                -10084.\n",
      "No. Observations:                2499   AIC:                         2.026e+04\n",
      "Df Residuals:                    2451   BIC:                         2.054e+04\n",
      "Df Model:                          47                                         \n",
      "Covariance Type:            nonrobust                                         \n",
      "=========================================================================================\n",
      "                            coef    std err          t      P>|t|      [0.025      0.975]\n",
      "-----------------------------------------------------------------------------------------\n",
      "const                    38.2756     32.121      1.192      0.234     -24.712     101.263\n",
      "screen_size               0.4038      0.127      3.186      0.001       0.155       0.652\n",
      "main_camera_mp           -0.4386      0.091     -4.801      0.000      -0.618      -0.259\n",
      "selfie_camera_mp          0.8373      0.102      8.227      0.000       0.638       1.037\n",
      "int_memory                0.1063      0.011      9.862      0.000       0.085       0.127\n",
      "ram                     153.1022    128.485      1.192      0.234     -98.847     405.052\n",
      "battery                  -0.0001      0.000     -0.272      0.786      -0.001       0.001\n",
      "weight                   -0.0159      0.012     -1.342      0.180      -0.039       0.007\n",
      "release_year             -0.2928      0.271     -1.081      0.280      -0.824       0.238\n",
      "days_used                -0.0845      0.002    -46.952      0.000      -0.088      -0.081\n",
      "new_price                 0.3799      0.003    113.361      0.000       0.373       0.386\n",
      "brand_name_Alcatel        1.8448      2.856      0.646      0.518      -3.757       7.446\n",
      "brand_name_Apple        -13.7682     10.303     -1.336      0.182     -33.971       6.434\n",
      "brand_name_Asus           2.4908      2.779      0.896      0.370      -2.958       7.940\n",
      "brand_name_BlackBerry    10.7808      4.281      2.518      0.012       2.385      19.176\n",
      "brand_name_Celkon        -3.5464      3.845     -0.922      0.356     -11.086       3.993\n",
      "brand_name_Coolpad        2.4051      4.535      0.530      0.596      -6.488      11.298\n",
      "brand_name_Gionee        -3.8041      3.221     -1.181      0.238     -10.120       2.512\n",
      "brand_name_Google        16.3764      5.229      3.132      0.002       6.124      26.629\n",
      "brand_name_HTC            0.7516      2.844      0.264      0.792      -4.825       6.328\n",
      "brand_name_Honor         -0.4021      2.904     -0.138      0.890      -6.097       5.292\n",
      "brand_name_Huawei         0.3240      2.601      0.125      0.901      -4.777       5.425\n",
      "brand_name_Infinix      -15.9799      5.506     -2.902      0.004     -26.776      -5.184\n",
      "brand_name_Karbonn       -0.6277      3.746     -0.168      0.867      -7.973       6.717\n",
      "brand_name_LG             2.8820      2.639      1.092      0.275      -2.292       8.056\n",
      "brand_name_Lava           0.8713      3.689      0.236      0.813      -6.363       8.106\n",
      "brand_name_Lenovo        -2.0348      2.678     -0.760      0.447      -7.287       3.217\n",
      "brand_name_Meizu         -0.3518      3.235     -0.109      0.913      -6.696       5.992\n",
      "brand_name_Micromax       3.4311      2.822      1.216      0.224      -2.102       8.965\n",
      "brand_name_Microsoft      1.8578      5.047      0.368      0.713      -8.040      11.755\n",
      "brand_name_Motorola      -1.7627      2.912     -0.605      0.545      -7.473       3.948\n",
      "brand_name_Nokia         -7.4163      2.883     -2.572      0.010     -13.070      -1.763\n",
      "brand_name_OnePlus      -15.3973      4.077     -3.776      0.000     -23.392      -7.402\n",
      "brand_name_Oppo          -1.7509      2.823     -0.620      0.535      -7.286       3.784\n",
      "brand_name_Others         0.9510      2.461      0.386      0.699      -3.876       5.778\n",
      "brand_name_Panasonic     -1.4156      3.389     -0.418      0.676      -8.061       5.230\n",
      "brand_name_Realme        -2.0660      3.573     -0.578      0.563      -9.072       4.940\n",
      "brand_name_Samsung        1.3967      2.531      0.552      0.581      -3.566       6.359\n",
      "brand_name_Sony           4.1467      2.980      1.392      0.164      -1.696       9.990\n",
      "brand_name_Spice          4.9620      3.607      1.376      0.169      -2.111      12.035\n",
      "brand_name_Vivo           1.0232      2.896      0.353      0.724      -4.656       6.703\n",
      "brand_name_XOLO           3.2719      3.294      0.993      0.321      -3.188       9.731\n",
      "brand_name_Xiaomi        -1.3916      2.775     -0.501      0.616      -6.833       4.050\n",
      "brand_name_ZTE            0.9376      2.795      0.335      0.737      -4.542       6.418\n",
      "os_Others                -4.1035      1.528     -2.686      0.007      -7.100      -1.107\n",
      "os_Windows                0.9183      2.653      0.346      0.729      -4.284       6.121\n",
      "os_iOS                   24.7206     10.221      2.419      0.016       4.679      44.763\n",
      "4g_yes                   -1.6862      0.909     -1.856      0.064      -3.468       0.096\n",
      "5g_yes                    2.4689      1.680      1.470      0.142      -0.825       5.763\n",
      "==============================================================================\n",
      "Omnibus:                      233.732   Durbin-Watson:                   1.988\n",
      "Prob(Omnibus):                  0.000   Jarque-Bera (JB):              519.521\n",
      "Skew:                           0.575   Prob(JB):                    1.54e-113\n",
      "Kurtosis:                       4.915   Cond. No.                     3.99e+16\n",
      "==============================================================================\n",
      "\n",
      "Notes:\n",
      "[1] Standard Errors assume that the covariance matrix of the errors is correctly specified.\n",
      "[2] The smallest eigenvalue is 2.37e-23. This might indicate that there are\n",
      "strong multicollinearity problems or that the design matrix is singular.\n"
     ]
    }
   ],
   "source": [
    "# unlike sklearn, statsmodels does not add a constant to the data on its own\n",
    "# we have to add the constant manually\n",
    "x_train1 = sm.add_constant(x_train, has_constant='add')\n",
    "# adding constant to the test data\n",
    "x_test1 = sm.add_constant(x_test, has_constant='add')\n",
    "\n",
    "olsmod0 = sm.OLS(y_train, x_train1).fit()\n",
    "print(olsmod0.summary())"
   ]
  },
  {
   "cell_type": "markdown",
   "id": "203ddcc5",
   "metadata": {},
   "source": [
    "**Observations**\n",
    "\n",
    "* Positive values of the coefficient show that *used_price* increases with the increase of corresponding attribute value.\n",
    "* p-value of a variable indicates if the variable is significant or not. If we consider the significance level to be 0.05 (5%), then any variable with a p-value less than 0.05 would be considered significant.\n",
    "* But these variables might contain multicollinearity, which will affect the p-values.\n",
    "* So, we need to deal with multicollinearity and check the other assumptions of linear regression first, and then look at the p-values."
   ]
  },
  {
   "cell_type": "markdown",
   "id": "c4eec1e0",
   "metadata": {},
   "source": [
    "## Checking Linear Regression Assumptions"
   ]
  },
  {
   "cell_type": "markdown",
   "id": "5b975c4d",
   "metadata": {},
   "source": [
    "We will be checking the following Linear Regression assumptions:\n",
    "\n",
    "1. **No Multicollinearity**\n",
    "\n",
    "2. **Linearity of variables**\n",
    "\n",
    "3. **Independence of error terms**\n",
    "\n",
    "4. **Normality of error terms**\n",
    "\n",
    "5. **No Heteroscedasticity**"
   ]
  },
  {
   "cell_type": "markdown",
   "id": "be94b90a",
   "metadata": {},
   "source": [
    "### TEST FOR MULTICOLLINEARITY\n",
    "\n",
    "* Multicollinearity occurs when predictor variables in a regression model are correlated. This correlation is a problem because predictor variables should be independent. If the correlation between variables is high, it can cause problems when we fit the model and interpret the results. When we have multicollinearity in the linear model, the coefficients that the model suggests are unreliable.\n",
    "\n",
    "* There are different ways of detecting (or testing) multicollinearity. One such way is by using the Variance Inflation Factor, or VIF.\n",
    "\n",
    "* **Variance  Inflation Factor (VIF)**:  Variance inflation factors measure the inflation in the variances of the regression parameter estimates due to collinearities that exist among the predictors. It is a measure of how much the variance of the estimated regression coefficient $\\beta_k$ is \"inflated\" by the existence of correlation among the predictor variables in the model.\n",
    "    - If VIF is 1, then there is no correlation among the $k$th predictor and the remaining predictor variables, and hence, the variance of $\\beta_k$ is not inflated at all.\n",
    "\n",
    "* **General Rule of thumb**:\n",
    "    - If VIF is between 1 and 5, then there is low multicollinearity.\n",
    "    - If VIF is between 5 and 10, we say there is moderate multicollinearity.\n",
    "    - If VIF is exceeding 10, it shows signs of high multicollinearity."
   ]
  },
  {
   "cell_type": "code",
   "execution_count": 42,
   "id": "9077ac43",
   "metadata": {},
   "outputs": [],
   "source": [
    "from statsmodels.stats.outliers_influence import variance_inflation_factor\n",
    "\n",
    "# we will define a function to check VIF\n",
    "def checking_vif(predictors):\n",
    "    vif = pd.DataFrame()\n",
    "    vif[\"feature\"] = predictors.columns\n",
    "\n",
    "    # calculating VIF for each feature\n",
    "    vif[\"VIF\"] = [\n",
    "        variance_inflation_factor(predictors.values, i)\n",
    "        for i in range(len(predictors.columns))\n",
    "    ]\n",
    "    return vif"
   ]
  },
  {
   "cell_type": "code",
   "execution_count": 43,
   "id": "8087ce1f",
   "metadata": {},
   "outputs": [
    {
     "data": {
      "text/html": [
       "<div>\n",
       "<style scoped>\n",
       "    .dataframe tbody tr th:only-of-type {\n",
       "        vertical-align: middle;\n",
       "    }\n",
       "\n",
       "    .dataframe tbody tr th {\n",
       "        vertical-align: top;\n",
       "    }\n",
       "\n",
       "    .dataframe thead th {\n",
       "        text-align: right;\n",
       "    }\n",
       "</style>\n",
       "<table border=\"1\" class=\"dataframe\">\n",
       "  <thead>\n",
       "    <tr style=\"text-align: right;\">\n",
       "      <th></th>\n",
       "      <th>feature</th>\n",
       "      <th>VIF</th>\n",
       "    </tr>\n",
       "  </thead>\n",
       "  <tbody>\n",
       "    <tr>\n",
       "      <th>0</th>\n",
       "      <td>const</td>\n",
       "      <td>0.000</td>\n",
       "    </tr>\n",
       "    <tr>\n",
       "      <th>1</th>\n",
       "      <td>screen_size</td>\n",
       "      <td>3.686</td>\n",
       "    </tr>\n",
       "    <tr>\n",
       "      <th>2</th>\n",
       "      <td>main_camera_mp</td>\n",
       "      <td>2.197</td>\n",
       "    </tr>\n",
       "    <tr>\n",
       "      <th>3</th>\n",
       "      <td>selfie_camera_mp</td>\n",
       "      <td>3.806</td>\n",
       "    </tr>\n",
       "    <tr>\n",
       "      <th>4</th>\n",
       "      <td>int_memory</td>\n",
       "      <td>2.294</td>\n",
       "    </tr>\n",
       "    <tr>\n",
       "      <th>5</th>\n",
       "      <td>ram</td>\n",
       "      <td>0.000</td>\n",
       "    </tr>\n",
       "    <tr>\n",
       "      <th>6</th>\n",
       "      <td>battery</td>\n",
       "      <td>3.629</td>\n",
       "    </tr>\n",
       "    <tr>\n",
       "      <th>7</th>\n",
       "      <td>weight</td>\n",
       "      <td>3.129</td>\n",
       "    </tr>\n",
       "    <tr>\n",
       "      <th>8</th>\n",
       "      <td>release_year</td>\n",
       "      <td>5.071</td>\n",
       "    </tr>\n",
       "    <tr>\n",
       "      <th>9</th>\n",
       "      <td>days_used</td>\n",
       "      <td>2.634</td>\n",
       "    </tr>\n",
       "    <tr>\n",
       "      <th>10</th>\n",
       "      <td>new_price</td>\n",
       "      <td>2.707</td>\n",
       "    </tr>\n",
       "    <tr>\n",
       "      <th>11</th>\n",
       "      <td>brand_name_Alcatel</td>\n",
       "      <td>3.109</td>\n",
       "    </tr>\n",
       "    <tr>\n",
       "      <th>12</th>\n",
       "      <td>brand_name_Apple</td>\n",
       "      <td>22.953</td>\n",
       "    </tr>\n",
       "    <tr>\n",
       "      <th>13</th>\n",
       "      <td>brand_name_Asus</td>\n",
       "      <td>3.470</td>\n",
       "    </tr>\n",
       "    <tr>\n",
       "      <th>14</th>\n",
       "      <td>brand_name_BlackBerry</td>\n",
       "      <td>1.526</td>\n",
       "    </tr>\n",
       "    <tr>\n",
       "      <th>15</th>\n",
       "      <td>brand_name_Celkon</td>\n",
       "      <td>1.840</td>\n",
       "    </tr>\n",
       "    <tr>\n",
       "      <th>16</th>\n",
       "      <td>brand_name_Coolpad</td>\n",
       "      <td>1.393</td>\n",
       "    </tr>\n",
       "    <tr>\n",
       "      <th>17</th>\n",
       "      <td>brand_name_Gionee</td>\n",
       "      <td>2.138</td>\n",
       "    </tr>\n",
       "    <tr>\n",
       "      <th>18</th>\n",
       "      <td>brand_name_Google</td>\n",
       "      <td>1.284</td>\n",
       "    </tr>\n",
       "    <tr>\n",
       "      <th>19</th>\n",
       "      <td>brand_name_HTC</td>\n",
       "      <td>3.280</td>\n",
       "    </tr>\n",
       "    <tr>\n",
       "      <th>20</th>\n",
       "      <td>brand_name_Honor</td>\n",
       "      <td>3.337</td>\n",
       "    </tr>\n",
       "    <tr>\n",
       "      <th>21</th>\n",
       "      <td>brand_name_Huawei</td>\n",
       "      <td>6.071</td>\n",
       "    </tr>\n",
       "    <tr>\n",
       "      <th>22</th>\n",
       "      <td>brand_name_Infinix</td>\n",
       "      <td>1.266</td>\n",
       "    </tr>\n",
       "    <tr>\n",
       "      <th>23</th>\n",
       "      <td>brand_name_Karbonn</td>\n",
       "      <td>1.674</td>\n",
       "    </tr>\n",
       "    <tr>\n",
       "      <th>24</th>\n",
       "      <td>brand_name_LG</td>\n",
       "      <td>5.109</td>\n",
       "    </tr>\n",
       "    <tr>\n",
       "      <th>25</th>\n",
       "      <td>brand_name_Lava</td>\n",
       "      <td>1.694</td>\n",
       "    </tr>\n",
       "    <tr>\n",
       "      <th>26</th>\n",
       "      <td>brand_name_Lenovo</td>\n",
       "      <td>4.258</td>\n",
       "    </tr>\n",
       "    <tr>\n",
       "      <th>27</th>\n",
       "      <td>brand_name_Meizu</td>\n",
       "      <td>2.264</td>\n",
       "    </tr>\n",
       "    <tr>\n",
       "      <th>28</th>\n",
       "      <td>brand_name_Micromax</td>\n",
       "      <td>3.229</td>\n",
       "    </tr>\n",
       "    <tr>\n",
       "      <th>29</th>\n",
       "      <td>brand_name_Microsoft</td>\n",
       "      <td>1.857</td>\n",
       "    </tr>\n",
       "    <tr>\n",
       "      <th>30</th>\n",
       "      <td>brand_name_Motorola</td>\n",
       "      <td>3.105</td>\n",
       "    </tr>\n",
       "    <tr>\n",
       "      <th>31</th>\n",
       "      <td>brand_name_Nokia</td>\n",
       "      <td>3.615</td>\n",
       "    </tr>\n",
       "    <tr>\n",
       "      <th>32</th>\n",
       "      <td>brand_name_OnePlus</td>\n",
       "      <td>1.641</td>\n",
       "    </tr>\n",
       "    <tr>\n",
       "      <th>33</th>\n",
       "      <td>brand_name_Oppo</td>\n",
       "      <td>3.890</td>\n",
       "    </tr>\n",
       "    <tr>\n",
       "      <th>34</th>\n",
       "      <td>brand_name_Others</td>\n",
       "      <td>9.572</td>\n",
       "    </tr>\n",
       "    <tr>\n",
       "      <th>35</th>\n",
       "      <td>brand_name_Panasonic</td>\n",
       "      <td>1.959</td>\n",
       "    </tr>\n",
       "    <tr>\n",
       "      <th>36</th>\n",
       "      <td>brand_name_Realme</td>\n",
       "      <td>1.916</td>\n",
       "    </tr>\n",
       "    <tr>\n",
       "      <th>37</th>\n",
       "      <td>brand_name_Samsung</td>\n",
       "      <td>7.891</td>\n",
       "    </tr>\n",
       "    <tr>\n",
       "      <th>38</th>\n",
       "      <td>brand_name_Sony</td>\n",
       "      <td>2.855</td>\n",
       "    </tr>\n",
       "    <tr>\n",
       "      <th>39</th>\n",
       "      <td>brand_name_Spice</td>\n",
       "      <td>1.753</td>\n",
       "    </tr>\n",
       "    <tr>\n",
       "      <th>40</th>\n",
       "      <td>brand_name_Vivo</td>\n",
       "      <td>3.484</td>\n",
       "    </tr>\n",
       "    <tr>\n",
       "      <th>41</th>\n",
       "      <td>brand_name_XOLO</td>\n",
       "      <td>2.016</td>\n",
       "    </tr>\n",
       "    <tr>\n",
       "      <th>42</th>\n",
       "      <td>brand_name_Xiaomi</td>\n",
       "      <td>4.019</td>\n",
       "    </tr>\n",
       "    <tr>\n",
       "      <th>43</th>\n",
       "      <td>brand_name_ZTE</td>\n",
       "      <td>3.662</td>\n",
       "    </tr>\n",
       "    <tr>\n",
       "      <th>44</th>\n",
       "      <td>os_Others</td>\n",
       "      <td>1.583</td>\n",
       "    </tr>\n",
       "    <tr>\n",
       "      <th>45</th>\n",
       "      <td>os_Windows</td>\n",
       "      <td>1.593</td>\n",
       "    </tr>\n",
       "    <tr>\n",
       "      <th>46</th>\n",
       "      <td>os_iOS</td>\n",
       "      <td>21.531</td>\n",
       "    </tr>\n",
       "    <tr>\n",
       "      <th>47</th>\n",
       "      <td>4g_yes</td>\n",
       "      <td>2.413</td>\n",
       "    </tr>\n",
       "    <tr>\n",
       "      <th>48</th>\n",
       "      <td>5g_yes</td>\n",
       "      <td>1.459</td>\n",
       "    </tr>\n",
       "  </tbody>\n",
       "</table>\n",
       "</div>"
      ],
      "text/plain": [
       "                  feature    VIF\n",
       "0                   const  0.000\n",
       "1             screen_size  3.686\n",
       "2          main_camera_mp  2.197\n",
       "3        selfie_camera_mp  3.806\n",
       "4              int_memory  2.294\n",
       "5                     ram  0.000\n",
       "6                 battery  3.629\n",
       "7                  weight  3.129\n",
       "8            release_year  5.071\n",
       "9               days_used  2.634\n",
       "10              new_price  2.707\n",
       "11     brand_name_Alcatel  3.109\n",
       "12       brand_name_Apple 22.953\n",
       "13        brand_name_Asus  3.470\n",
       "14  brand_name_BlackBerry  1.526\n",
       "15      brand_name_Celkon  1.840\n",
       "16     brand_name_Coolpad  1.393\n",
       "17      brand_name_Gionee  2.138\n",
       "18      brand_name_Google  1.284\n",
       "19         brand_name_HTC  3.280\n",
       "20       brand_name_Honor  3.337\n",
       "21      brand_name_Huawei  6.071\n",
       "22     brand_name_Infinix  1.266\n",
       "23     brand_name_Karbonn  1.674\n",
       "24          brand_name_LG  5.109\n",
       "25        brand_name_Lava  1.694\n",
       "26      brand_name_Lenovo  4.258\n",
       "27       brand_name_Meizu  2.264\n",
       "28    brand_name_Micromax  3.229\n",
       "29   brand_name_Microsoft  1.857\n",
       "30    brand_name_Motorola  3.105\n",
       "31       brand_name_Nokia  3.615\n",
       "32     brand_name_OnePlus  1.641\n",
       "33        brand_name_Oppo  3.890\n",
       "34      brand_name_Others  9.572\n",
       "35   brand_name_Panasonic  1.959\n",
       "36      brand_name_Realme  1.916\n",
       "37     brand_name_Samsung  7.891\n",
       "38        brand_name_Sony  2.855\n",
       "39       brand_name_Spice  1.753\n",
       "40        brand_name_Vivo  3.484\n",
       "41        brand_name_XOLO  2.016\n",
       "42      brand_name_Xiaomi  4.019\n",
       "43         brand_name_ZTE  3.662\n",
       "44              os_Others  1.583\n",
       "45             os_Windows  1.593\n",
       "46                 os_iOS 21.531\n",
       "47                 4g_yes  2.413\n",
       "48                 5g_yes  1.459"
      ]
     },
     "execution_count": 43,
     "metadata": {},
     "output_type": "execute_result"
    }
   ],
   "source": [
    "checking_vif(x_train1)"
   ]
  },
  {
   "cell_type": "markdown",
   "id": "d8ebdc38",
   "metadata": {},
   "source": [
    "**Observations**\n",
    "\n",
    "* *brand_name_Samsung*, *brand_name_Others*, *brand_name_LG*, *brand_name_Huawei* and *release_year* have VIF slightly greater than 5\n",
    "* *os_iOS* and *brand_name_Apple* have a VIF score of much greater than 5.\n",
    "* Due to the above columns were gotten from the onehot encoding, they are correlated with each other. Hence, they will not be dropped.\n",
    "* When they were converted to numerical values, it was just 0s and 1s which will correlated. This explains why they are greater than 5 either sightly or more."
   ]
  },
  {
   "cell_type": "markdown",
   "id": "57ab05f7",
   "metadata": {},
   "source": [
    "Let's check the model performance."
   ]
  },
  {
   "cell_type": "code",
   "execution_count": 44,
   "id": "33545655",
   "metadata": {
    "scrolled": true
   },
   "outputs": [
    {
     "name": "stdout",
     "output_type": "stream",
     "text": [
      "                            OLS Regression Results                            \n",
      "==============================================================================\n",
      "Dep. Variable:             used_price   R-squared:                       0.957\n",
      "Model:                            OLS   Adj. R-squared:                  0.956\n",
      "Method:                 Least Squares   F-statistic:                     1166.\n",
      "Date:                Sat, 21 Aug 2021   Prob (F-statistic):               0.00\n",
      "Time:                        00:55:03   Log-Likelihood:                -10084.\n",
      "No. Observations:                2499   AIC:                         2.026e+04\n",
      "Df Residuals:                    2451   BIC:                         2.054e+04\n",
      "Df Model:                          47                                         \n",
      "Covariance Type:            nonrobust                                         \n",
      "=========================================================================================\n",
      "                            coef    std err          t      P>|t|      [0.025      0.975]\n",
      "-----------------------------------------------------------------------------------------\n",
      "screen_size               0.4038      0.127      3.186      0.001       0.155       0.652\n",
      "main_camera_mp           -0.4386      0.091     -4.801      0.000      -0.618      -0.259\n",
      "selfie_camera_mp          0.8373      0.102      8.227      0.000       0.638       1.037\n",
      "int_memory                0.1063      0.011      9.862      0.000       0.085       0.127\n",
      "ram                     162.6711    136.515      1.192      0.234    -105.025     430.367\n",
      "battery                  -0.0001      0.000     -0.272      0.786      -0.001       0.001\n",
      "weight                   -0.0159      0.012     -1.342      0.180      -0.039       0.007\n",
      "release_year             -0.2928      0.271     -1.081      0.280      -0.824       0.238\n",
      "days_used                -0.0845      0.002    -46.952      0.000      -0.088      -0.081\n",
      "new_price                 0.3799      0.003    113.361      0.000       0.373       0.386\n",
      "brand_name_Alcatel        1.8448      2.856      0.646      0.518      -3.757       7.446\n",
      "brand_name_Apple        -13.7682     10.303     -1.336      0.182     -33.971       6.434\n",
      "brand_name_Asus           2.4908      2.779      0.896      0.370      -2.958       7.940\n",
      "brand_name_BlackBerry    10.7808      4.281      2.518      0.012       2.385      19.176\n",
      "brand_name_Celkon        -3.5464      3.845     -0.922      0.356     -11.086       3.993\n",
      "brand_name_Coolpad        2.4051      4.535      0.530      0.596      -6.488      11.298\n",
      "brand_name_Gionee        -3.8041      3.221     -1.181      0.238     -10.120       2.512\n",
      "brand_name_Google        16.3764      5.229      3.132      0.002       6.124      26.629\n",
      "brand_name_HTC            0.7516      2.844      0.264      0.792      -4.825       6.328\n",
      "brand_name_Honor         -0.4021      2.904     -0.138      0.890      -6.097       5.292\n",
      "brand_name_Huawei         0.3240      2.601      0.125      0.901      -4.777       5.425\n",
      "brand_name_Infinix      -15.9799      5.506     -2.902      0.004     -26.776      -5.184\n",
      "brand_name_Karbonn       -0.6277      3.746     -0.168      0.867      -7.973       6.717\n",
      "brand_name_LG             2.8820      2.639      1.092      0.275      -2.292       8.056\n",
      "brand_name_Lava           0.8713      3.689      0.236      0.813      -6.363       8.106\n",
      "brand_name_Lenovo        -2.0348      2.678     -0.760      0.447      -7.287       3.217\n",
      "brand_name_Meizu         -0.3518      3.235     -0.109      0.913      -6.696       5.992\n",
      "brand_name_Micromax       3.4311      2.822      1.216      0.224      -2.102       8.965\n",
      "brand_name_Microsoft      1.8578      5.047      0.368      0.713      -8.040      11.755\n",
      "brand_name_Motorola      -1.7627      2.912     -0.605      0.545      -7.473       3.948\n",
      "brand_name_Nokia         -7.4163      2.883     -2.572      0.010     -13.070      -1.763\n",
      "brand_name_OnePlus      -15.3973      4.077     -3.776      0.000     -23.392      -7.402\n",
      "brand_name_Oppo          -1.7509      2.823     -0.620      0.535      -7.286       3.784\n",
      "brand_name_Others         0.9510      2.461      0.386      0.699      -3.876       5.778\n",
      "brand_name_Panasonic     -1.4156      3.389     -0.418      0.676      -8.061       5.230\n",
      "brand_name_Realme        -2.0660      3.573     -0.578      0.563      -9.072       4.940\n",
      "brand_name_Samsung        1.3967      2.531      0.552      0.581      -3.566       6.359\n",
      "brand_name_Sony           4.1467      2.980      1.392      0.164      -1.696       9.990\n",
      "brand_name_Spice          4.9620      3.607      1.376      0.169      -2.111      12.035\n",
      "brand_name_Vivo           1.0232      2.896      0.353      0.724      -4.656       6.703\n",
      "brand_name_XOLO           3.2719      3.294      0.993      0.321      -3.188       9.731\n",
      "brand_name_Xiaomi        -1.3916      2.775     -0.501      0.616      -6.833       4.050\n",
      "brand_name_ZTE            0.9376      2.795      0.335      0.737      -4.542       6.418\n",
      "os_Others                -4.1035      1.528     -2.686      0.007      -7.100      -1.107\n",
      "os_Windows                0.9183      2.653      0.346      0.729      -4.284       6.121\n",
      "os_iOS                   24.7206     10.221      2.419      0.016       4.679      44.763\n",
      "4g_yes                   -1.6862      0.909     -1.856      0.064      -3.468       0.096\n",
      "5g_yes                    2.4689      1.680      1.470      0.142      -0.825       5.763\n",
      "==============================================================================\n",
      "Omnibus:                      233.732   Durbin-Watson:                   1.988\n",
      "Prob(Omnibus):                  0.000   Jarque-Bera (JB):              519.521\n",
      "Skew:                           0.575   Prob(JB):                    1.54e-113\n",
      "Kurtosis:                       4.915   Cond. No.                     1.92e+06\n",
      "==============================================================================\n",
      "\n",
      "Notes:\n",
      "[1] Standard Errors assume that the covariance matrix of the errors is correctly specified.\n",
      "[2] The condition number is large, 1.92e+06. This might indicate that there are\n",
      "strong multicollinearity or other numerical problems.\n"
     ]
    }
   ],
   "source": [
    "olsmod1 = sm.OLS(y_train, x_train).fit()\n",
    "print(olsmod1.summary())"
   ]
  },
  {
   "cell_type": "markdown",
   "id": "33175830",
   "metadata": {},
   "source": [
    "**Observations**\n",
    "\n",
    "* Adj. R-squared is still the same as 0.95, which shows that not dropping the columns did not have any effect on the model.\n",
    "* Let's look at the p-values of predictor variables to check their significance:\n",
    "*ram*, battery*, *weight*, *release_year*, all brand names **except** *brand_name_OnePlus*, *brand_name_Infinix*, *brand_name_Google* and all os have p-value > 0.05. So, they are not significant and we'll drop them.\n",
    "- But sometimes p-values change after dropping a variable. So, we'll not drop all variables at once.\n",
    "- Instead, we will do the following:\n",
    "    - Build a model, check the p-values of the variables, and drop the column with the highest p-value.\n",
    "    - Create a new model without the dropped feature, check the p-values of the variables, and drop the column with the highest p-value.\n",
    "    - Repeat the above two steps till there are no columns with p-value > 0.05.\n",
    "\n",
    "The above process can also be done manually by picking one variable at a time that has a high p-value, dropping it, and building a model again. But that might be a little tedious and using a loop will be more efficient. \n",
    "\n",
    "\n"
   ]
  },
  {
   "cell_type": "code",
   "execution_count": 45,
   "id": "789980cd",
   "metadata": {},
   "outputs": [
    {
     "name": "stdout",
     "output_type": "stream",
     "text": [
      "['screen_size', 'main_camera_mp', 'selfie_camera_mp', 'int_memory', 'ram', 'days_used', 'new_price', 'brand_name_BlackBerry', 'brand_name_Gionee', 'brand_name_Google', 'brand_name_Infinix', 'brand_name_Lenovo', 'brand_name_Nokia', 'brand_name_OnePlus', 'os_Others', 'os_iOS', '4g_yes']\n"
     ]
    }
   ],
   "source": [
    "# initial list of columns\n",
    "cols = x_train.columns.tolist()\n",
    "\n",
    "# setting an initial max p-value\n",
    "max_p_value = 1\n",
    "\n",
    "while len(cols) > 0:\n",
    "    # defining the train set\n",
    "    x_train_aux = x_train[cols]\n",
    "\n",
    "    # fitting the model\n",
    "    model = sm.OLS(y_train, x_train_aux).fit()\n",
    "\n",
    "    # getting the p-values and the maximum p-value\n",
    "    p_values = model.pvalues\n",
    "    max_p_value = max(p_values)\n",
    "\n",
    "    # name of the variable with maximum p-value\n",
    "    feature_with_p_max = p_values.idxmax()\n",
    "\n",
    "    if max_p_value > 0.05:\n",
    "        cols.remove(feature_with_p_max)\n",
    "    else:\n",
    "        break\n",
    "\n",
    "selected_features = cols\n",
    "print(selected_features)"
   ]
  },
  {
   "cell_type": "code",
   "execution_count": 46,
   "id": "f3708a95",
   "metadata": {},
   "outputs": [],
   "source": [
    "x_train4 = x_train[selected_features]\n",
    "x_test4 = x_test[selected_features]"
   ]
  },
  {
   "cell_type": "code",
   "execution_count": 47,
   "id": "f390a08c",
   "metadata": {},
   "outputs": [
    {
     "name": "stdout",
     "output_type": "stream",
     "text": [
      "                            OLS Regression Results                            \n",
      "==============================================================================\n",
      "Dep. Variable:             used_price   R-squared:                       0.957\n",
      "Model:                            OLS   Adj. R-squared:                  0.956\n",
      "Method:                 Least Squares   F-statistic:                     3416.\n",
      "Date:                Sat, 21 Aug 2021   Prob (F-statistic):               0.00\n",
      "Time:                        00:55:09   Log-Likelihood:                -10102.\n",
      "No. Observations:                2499   AIC:                         2.024e+04\n",
      "Df Residuals:                    2482   BIC:                         2.034e+04\n",
      "Df Model:                          16                                         \n",
      "Covariance Type:            nonrobust                                         \n",
      "=========================================================================================\n",
      "                            coef    std err          t      P>|t|      [0.025      0.975]\n",
      "-----------------------------------------------------------------------------------------\n",
      "screen_size               0.2153      0.086      2.512      0.012       0.047       0.383\n",
      "main_camera_mp           -0.4651      0.084     -5.543      0.000      -0.630      -0.301\n",
      "selfie_camera_mp          0.7863      0.087      9.035      0.000       0.616       0.957\n",
      "int_memory                0.0988      0.010      9.900      0.000       0.079       0.118\n",
      "ram                      15.3110      0.491     31.197      0.000      14.349      16.273\n",
      "days_used                -0.0834      0.001    -55.795      0.000      -0.086      -0.080\n",
      "new_price                 0.3828      0.003    135.021      0.000       0.377       0.388\n",
      "brand_name_BlackBerry    10.0472      3.543      2.836      0.005       3.099      16.995\n",
      "brand_name_Gionee        -5.0928      2.217     -2.297      0.022      -9.441      -0.745\n",
      "brand_name_Google        14.8972      4.638      3.212      0.001       5.802      23.993\n",
      "brand_name_Infinix      -16.9892      4.945     -3.436      0.001     -26.686      -7.293\n",
      "brand_name_Lenovo        -3.2242      1.313     -2.456      0.014      -5.799      -0.649\n",
      "brand_name_Nokia         -7.9379      1.617     -4.909      0.000     -11.109      -4.767\n",
      "brand_name_OnePlus      -15.1254      3.267     -4.630      0.000     -21.532      -8.719\n",
      "os_Others                -4.8334      1.449     -3.336      0.001      -7.675      -1.992\n",
      "os_iOS                    9.2124      2.322      3.968      0.000       4.660      13.765\n",
      "4g_yes                   -2.3912      0.794     -3.012      0.003      -3.948      -0.834\n",
      "==============================================================================\n",
      "Omnibus:                      243.503   Durbin-Watson:                   1.977\n",
      "Prob(Omnibus):                  0.000   Jarque-Bera (JB):              545.608\n",
      "Skew:                           0.594   Prob(JB):                    3.33e-119\n",
      "Kurtosis:                       4.957   Cond. No.                     1.34e+04\n",
      "==============================================================================\n",
      "\n",
      "Notes:\n",
      "[1] Standard Errors assume that the covariance matrix of the errors is correctly specified.\n",
      "[2] The condition number is large, 1.34e+04. This might indicate that there are\n",
      "strong multicollinearity or other numerical problems.\n"
     ]
    }
   ],
   "source": [
    "olsmod2 = sm.OLS(y_train, x_train4).fit()\n",
    "print(olsmod2.summary())"
   ]
  },
  {
   "cell_type": "markdown",
   "id": "ea5e7bae",
   "metadata": {},
   "source": [
    "**Now no feature has p-value greater than 0.05, so we'll consider the features in *x_train* as the final ones and *olsmod2* as final model.**"
   ]
  },
  {
   "cell_type": "markdown",
   "id": "a7e88d67",
   "metadata": {},
   "source": [
    "**Observations**\n",
    "\n",
    "* Adjusted R-squared is 0.956, i.e., our model is able to explain 95% of the variance. This shows that the model is good.\n",
    "* The adjusted R-squared in *olsmod0* (where we considered all the variables) was 0.957. This shows that not dropping the variables (affected by the one hot encoding), the model is not affected."
   ]
  },
  {
   "cell_type": "markdown",
   "id": "f47f3b57",
   "metadata": {},
   "source": [
    "**Now we'll check the rest of the assumptions on *olsmod2*.**\n",
    "\n",
    "2. **Linearity of variables**\n",
    "\n",
    "3. **Independence of error terms**\n",
    "\n",
    "4. **Normality of error terms**\n",
    "\n",
    "5. **No Heteroscedasticity**"
   ]
  },
  {
   "cell_type": "markdown",
   "id": "6620868a",
   "metadata": {},
   "source": [
    "### TEST FOR LINEARITY AND INDEPENDENCE\n",
    "\n",
    "**Why the test?**\n",
    "\n",
    "* Linearity describes a straight-line relationship between two variables, predictor variables must have a linear relation with the dependent variable.\n",
    "* The independence of the error terms (or residuals) is important. If the residuals are not independent, then the confidence intervals of the coefficient estimates will be narrower and make us incorrectly conclude a parameter to be statistically significant.\n",
    "\n",
    "**How to check linearity and independence?**\n",
    "\n",
    "- Make a plot of fitted values vs residuals.\n",
    "- If they don't follow any pattern, then we say the model is linear and residuals are independent.\n",
    "- Otherwise, the model is showing signs of non-linearity and residuals are not independent.\n",
    "\n",
    "**How to fix if this assumption is not followed?**\n",
    "\n",
    "* We can try to transform the variables and make the relationships linear."
   ]
  },
  {
   "cell_type": "code",
   "execution_count": 48,
   "id": "91590ad3",
   "metadata": {},
   "outputs": [
    {
     "data": {
      "text/html": [
       "<div>\n",
       "<style scoped>\n",
       "    .dataframe tbody tr th:only-of-type {\n",
       "        vertical-align: middle;\n",
       "    }\n",
       "\n",
       "    .dataframe tbody tr th {\n",
       "        vertical-align: top;\n",
       "    }\n",
       "\n",
       "    .dataframe thead th {\n",
       "        text-align: right;\n",
       "    }\n",
       "</style>\n",
       "<table border=\"1\" class=\"dataframe\">\n",
       "  <thead>\n",
       "    <tr style=\"text-align: right;\">\n",
       "      <th></th>\n",
       "      <th>Actual Values</th>\n",
       "      <th>Fitted Values</th>\n",
       "      <th>Residuals</th>\n",
       "    </tr>\n",
       "  </thead>\n",
       "  <tbody>\n",
       "    <tr>\n",
       "      <th>1248</th>\n",
       "      <td>98.870</td>\n",
       "      <td>108.415</td>\n",
       "      <td>-9.545</td>\n",
       "    </tr>\n",
       "    <tr>\n",
       "      <th>2206</th>\n",
       "      <td>132.620</td>\n",
       "      <td>145.034</td>\n",
       "      <td>-12.414</td>\n",
       "    </tr>\n",
       "    <tr>\n",
       "      <th>1623</th>\n",
       "      <td>25.270</td>\n",
       "      <td>36.190</td>\n",
       "      <td>-10.920</td>\n",
       "    </tr>\n",
       "    <tr>\n",
       "      <th>2245</th>\n",
       "      <td>104.260</td>\n",
       "      <td>109.301</td>\n",
       "      <td>-5.041</td>\n",
       "    </tr>\n",
       "    <tr>\n",
       "      <th>1043</th>\n",
       "      <td>39.220</td>\n",
       "      <td>51.816</td>\n",
       "      <td>-12.596</td>\n",
       "    </tr>\n",
       "  </tbody>\n",
       "</table>\n",
       "</div>"
      ],
      "text/plain": [
       "      Actual Values  Fitted Values  Residuals\n",
       "1248         98.870        108.415     -9.545\n",
       "2206        132.620        145.034    -12.414\n",
       "1623         25.270         36.190    -10.920\n",
       "2245        104.260        109.301     -5.041\n",
       "1043         39.220         51.816    -12.596"
      ]
     },
     "execution_count": 48,
     "metadata": {},
     "output_type": "execute_result"
    }
   ],
   "source": [
    "# let us create a dataframe with actual, fitted and residual values\n",
    "df_pred = pd.DataFrame()\n",
    "\n",
    "df_pred[\"Actual Values\"] = y_train  # actual values\n",
    "df_pred[\"Fitted Values\"] = olsmod2.fittedvalues  # predicted values\n",
    "df_pred[\"Residuals\"] = olsmod2.resid  # residuals\n",
    "\n",
    "df_pred.head()"
   ]
  },
  {
   "cell_type": "code",
   "execution_count": 49,
   "id": "b5452c09",
   "metadata": {},
   "outputs": [
    {
     "data": {
      "image/png": "[encoded data removed]",
      "text/plain": [
       "<Figure size 432x288 with 1 Axes>"
      ]
     },
     "metadata": {},
     "output_type": "display_data"
    }
   ],
   "source": [
    "# let's plot the fitted values vs residuals\n",
    "\n",
    "sns.residplot(\n",
    "    data=df_pred, x=\"Fitted Values\", y=\"Residuals\", color=\"green\", lowess=True\n",
    ")\n",
    "plt.xlabel(\"Fitted Values\")\n",
    "plt.ylabel(\"Residuals\")\n",
    "plt.title(\"Fitted vs Residual plot\")\n",
    "plt.show()"
   ]
  },
  {
   "cell_type": "markdown",
   "id": "2e2d30aa",
   "metadata": {},
   "source": [
    "* The scatter plot shows the distribution of residuals (errors) vs fitted values (predicted values).\n",
    "\n",
    "* If there exist any pattern in this plot, we consider it as signs of non-linearity in the data and a pattern means that the model doesn't capture non-linear effects."
   ]
  },
  {
   "cell_type": "markdown",
   "id": "63a67758",
   "metadata": {},
   "source": [
    "### TEST FOR NORMALITY\n",
    "\n",
    "**Why the test?**\n",
    "\n",
    "* Error terms, or residuals, should be normally distributed. If the error terms are not normally distributed, confidence intervals of the coefficient estimates may become too wide or narrow. Once confidence interval becomes unstable, it leads to difficulty in estimating coefficients based on minimization of least squares. Non-normality suggests that there are a few unusual data points that must be studied closely to make a better model.\n",
    "\n",
    "**How to check normality?**\n",
    "\n",
    "* The shape of the histogram of residuals can give an initial idea about the normality.\n",
    "* It can also be checked via a Q-Q plot of residuals. If the residuals follow a normal distribution, they will make a straight line plot, otherwise not.\n",
    "* Other tests to check for normality includes the Shapiro-Wilk test.\n",
    "    - Null hypothesis: Residuals are normally distributed\n",
    "    - Alternate hypothesis: Residuals are not normally distributed\n",
    "\n",
    "**How to fix if this assumption is not followed?**\n",
    "\n",
    "* We can apply transformations like log, exponential, arcsinh, etc. as per our data."
   ]
  },
  {
   "cell_type": "code",
   "execution_count": 50,
   "id": "5bb8905b",
   "metadata": {},
   "outputs": [
    {
     "data": {
      "image/png": "[encoded data removed]",
      "text/plain": [
       "<Figure size 432x288 with 1 Axes>"
      ]
     },
     "metadata": {},
     "output_type": "display_data"
    }
   ],
   "source": [
    "sns.histplot(data=df_pred, x=\"Residuals\", kde=True)\n",
    "plt.title(\"Normality of residuals\")\n",
    "plt.show()"
   ]
  },
  {
   "cell_type": "markdown",
   "id": "18c16416",
   "metadata": {},
   "source": [
    "- The histogram of residuals does have a bell shape.\n",
    "- Let's check the Q-Q plot."
   ]
  },
  {
   "cell_type": "code",
   "execution_count": 51,
   "id": "ce6fa55b",
   "metadata": {},
   "outputs": [
    {
     "data": {
      "image/png": "[encoded data removed]",
      "text/plain": [
       "<Figure size 432x288 with 1 Axes>"
      ]
     },
     "metadata": {},
     "output_type": "display_data"
    }
   ],
   "source": [
    "import pylab\n",
    "import scipy.stats as stats\n",
    "\n",
    "stats.probplot(df_pred[\"Residuals\"], dist=\"norm\", plot=pylab)\n",
    "plt.show()"
   ]
  },
  {
   "cell_type": "markdown",
   "id": "7c12ce2f",
   "metadata": {},
   "source": [
    "- The residuals are some what following a straight line except for the top tails and slightly and the bottom tail.\n",
    "- Let's check the results of the Shapiro-Wilk test."
   ]
  },
  {
   "cell_type": "code",
   "execution_count": 52,
   "id": "b5d88679",
   "metadata": {},
   "outputs": [
    {
     "data": {
      "text/plain": [
       "ShapiroResult(statistic=0.9679282903671265, pvalue=3.469884524338229e-23)"
      ]
     },
     "execution_count": 52,
     "metadata": {},
     "output_type": "execute_result"
    }
   ],
   "source": [
    "stats.shapiro(df_pred[\"Residuals\"])"
   ]
  },
  {
   "cell_type": "markdown",
   "id": "f489ca38",
   "metadata": {},
   "source": [
    "- Since p-value < 0.05, the residuals are not normal as per the Shapiro-Wilk test.\n",
    "- Strictly speaking, the residuals are not normal.\n",
    "- However, as an approximation, we can accept this distribution as close to being normal.\n",
    "- **So, the assumption is satisfied.**"
   ]
  },
  {
   "cell_type": "markdown",
   "id": "3d96aef6",
   "metadata": {},
   "source": [
    "### TEST FOR HOMOSCEDASTICITY\n",
    "\n",
    "* **Homoscedascity**: If the variance of the residuals is symmetrically distributed across the regression line, then the data is said to be homoscedastic.\n",
    "\n",
    "* **Heteroscedascity**: If the variance is unequal for the residuals across the regression line, then the data is said to be heteroscedastic.\n",
    "\n",
    "**Why the test?** \n",
    "\n",
    "* The presence of non-constant variance in the error terms results in heteroscedasticity. Generally, non-constant variance arises in presence of outliers.\n",
    "\n",
    "**How to check for homoscedasticity?**\n",
    "\n",
    "* The residual vs fitted values plot can be looked at to check for homoscedasticity. In the case of heteroscedasticity, the residuals can form an arrow shape or any other non-symmetrical shape.\n",
    "* The goldfeldquandt test can also be used. If we get a p-value > 0.05 we can say that the residuals are homoscedastic. Otherwise, they are heteroscedastic.\n",
    "    - Null hypothesis: Residuals are homoscedastic\n",
    "    - Alternate hypothesis: Residuals have heteroscedasticity\n",
    "\n",
    "**How to fix if this assumption is not followed?**\n",
    "\n",
    "* Heteroscedasticity can be fixed by adding other important features or making transformations."
   ]
  },
  {
   "cell_type": "code",
   "execution_count": 53,
   "id": "d8e99a7d",
   "metadata": {},
   "outputs": [
    {
     "data": {
      "text/plain": [
       "[('F statistic', 0.9600538562816499), ('p-value', 0.7628203099718505)]"
      ]
     },
     "execution_count": 53,
     "metadata": {},
     "output_type": "execute_result"
    }
   ],
   "source": [
    "import statsmodels.stats.api as sms\n",
    "from statsmodels.compat import lzip\n",
    "\n",
    "name = [\"F statistic\", \"p-value\"]\n",
    "test = sms.het_goldfeldquandt(df_pred[\"Residuals\"], x_train4)\n",
    "lzip(name, test)"
   ]
  },
  {
   "cell_type": "markdown",
   "id": "2a0cd997",
   "metadata": {},
   "source": [
    "**Since p-value > 0.05, we can say that the residuals are homoscedastic. So, this assumption is satisfied.**"
   ]
  },
  {
   "cell_type": "markdown",
   "id": "d0ba767e",
   "metadata": {},
   "source": [
    "**Now that we have checked all the assumptions of linear regression and they are satisfied, we can move towards the prediction part.**"
   ]
  },
  {
   "cell_type": "code",
   "execution_count": 54,
   "id": "f69017f6",
   "metadata": {},
   "outputs": [
    {
     "data": {
      "text/html": [
       "<div>\n",
       "<style scoped>\n",
       "    .dataframe tbody tr th:only-of-type {\n",
       "        vertical-align: middle;\n",
       "    }\n",
       "\n",
       "    .dataframe tbody tr th {\n",
       "        vertical-align: top;\n",
       "    }\n",
       "\n",
       "    .dataframe thead th {\n",
       "        text-align: right;\n",
       "    }\n",
       "</style>\n",
       "<table border=\"1\" class=\"dataframe\">\n",
       "  <thead>\n",
       "    <tr style=\"text-align: right;\">\n",
       "      <th></th>\n",
       "      <th>Actual</th>\n",
       "      <th>Predicted</th>\n",
       "    </tr>\n",
       "  </thead>\n",
       "  <tbody>\n",
       "    <tr>\n",
       "      <th>255</th>\n",
       "      <td>194.450</td>\n",
       "      <td>171.704</td>\n",
       "    </tr>\n",
       "    <tr>\n",
       "      <th>1398</th>\n",
       "      <td>170.240</td>\n",
       "      <td>149.840</td>\n",
       "    </tr>\n",
       "    <tr>\n",
       "      <th>2253</th>\n",
       "      <td>164.760</td>\n",
       "      <td>207.442</td>\n",
       "    </tr>\n",
       "    <tr>\n",
       "      <th>579</th>\n",
       "      <td>39.090</td>\n",
       "      <td>43.450</td>\n",
       "    </tr>\n",
       "    <tr>\n",
       "      <th>3123</th>\n",
       "      <td>45.080</td>\n",
       "      <td>38.140</td>\n",
       "    </tr>\n",
       "    <tr>\n",
       "      <th>1959</th>\n",
       "      <td>51.050</td>\n",
       "      <td>57.561</td>\n",
       "    </tr>\n",
       "    <tr>\n",
       "      <th>3111</th>\n",
       "      <td>40.070</td>\n",
       "      <td>34.602</td>\n",
       "    </tr>\n",
       "    <tr>\n",
       "      <th>1456</th>\n",
       "      <td>54.750</td>\n",
       "      <td>52.028</td>\n",
       "    </tr>\n",
       "    <tr>\n",
       "      <th>3332</th>\n",
       "      <td>95.060</td>\n",
       "      <td>104.454</td>\n",
       "    </tr>\n",
       "    <tr>\n",
       "      <th>855</th>\n",
       "      <td>44.030</td>\n",
       "      <td>47.814</td>\n",
       "    </tr>\n",
       "  </tbody>\n",
       "</table>\n",
       "</div>"
      ],
      "text/plain": [
       "      Actual  Predicted\n",
       "255  194.450    171.704\n",
       "1398 170.240    149.840\n",
       "2253 164.760    207.442\n",
       "579   39.090     43.450\n",
       "3123  45.080     38.140\n",
       "1959  51.050     57.561\n",
       "3111  40.070     34.602\n",
       "1456  54.750     52.028\n",
       "3332  95.060    104.454\n",
       "855   44.030     47.814"
      ]
     },
     "execution_count": 54,
     "metadata": {},
     "output_type": "execute_result"
    }
   ],
   "source": [
    "# predictions on the test set\n",
    "pred = olsmod2.predict(x_test4)\n",
    "\n",
    "df_pred_test = pd.DataFrame({\"Actual\": y_test, \"Predicted\": pred})\n",
    "df_pred_test.sample(10, random_state=1)"
   ]
  },
  {
   "cell_type": "markdown",
   "id": "85409492",
   "metadata": {},
   "source": [
    "- We can observe here that our model has returned pretty good prediction results, and the actual and predicted values are comparable.\n",
    "\n",
    "- We can also visualize comparison result as a bar graph.\n",
    "\n",
    "**Note**: As the number of records is large, for representation purpose, we are taking a sample of 25 records only."
   ]
  },
  {
   "cell_type": "code",
   "execution_count": 55,
   "id": "f9d364c4",
   "metadata": {},
   "outputs": [
    {
     "data": {
      "image/png": "[encoded data removed]",
      "text/plain": [
       "<Figure size 1080x504 with 1 Axes>"
      ]
     },
     "metadata": {},
     "output_type": "display_data"
    }
   ],
   "source": [
    "df1 = df_pred_test.sample(25, random_state=1)\n",
    "df1.plot(kind=\"bar\", figsize=(15, 7))\n",
    "plt.show()"
   ]
  },
  {
   "cell_type": "code",
   "execution_count": 56,
   "id": "b7f3f3bc",
   "metadata": {},
   "outputs": [
    {
     "name": "stdout",
     "output_type": "stream",
     "text": [
      "Training Performance\n",
      "\n"
     ]
    },
    {
     "data": {
      "text/html": [
       "<div>\n",
       "<style scoped>\n",
       "    .dataframe tbody tr th:only-of-type {\n",
       "        vertical-align: middle;\n",
       "    }\n",
       "\n",
       "    .dataframe tbody tr th {\n",
       "        vertical-align: top;\n",
       "    }\n",
       "\n",
       "    .dataframe thead th {\n",
       "        text-align: right;\n",
       "    }\n",
       "</style>\n",
       "<table border=\"1\" class=\"dataframe\">\n",
       "  <thead>\n",
       "    <tr style=\"text-align: right;\">\n",
       "      <th></th>\n",
       "      <th>RMSE</th>\n",
       "      <th>MAE</th>\n",
       "      <th>R-squared</th>\n",
       "      <th>Adj. R-squared</th>\n",
       "      <th>MAPE</th>\n",
       "    </tr>\n",
       "  </thead>\n",
       "  <tbody>\n",
       "    <tr>\n",
       "      <th>0</th>\n",
       "      <td>13.783</td>\n",
       "      <td>10.181</td>\n",
       "      <td>0.957</td>\n",
       "      <td>0.956</td>\n",
       "      <td>17.923</td>\n",
       "    </tr>\n",
       "  </tbody>\n",
       "</table>\n",
       "</div>"
      ],
      "text/plain": [
       "    RMSE    MAE  R-squared  Adj. R-squared   MAPE\n",
       "0 13.783 10.181      0.957           0.956 17.923"
      ]
     },
     "execution_count": 56,
     "metadata": {},
     "output_type": "execute_result"
    }
   ],
   "source": [
    "# checking model performance on train set (seen 70% data)\n",
    "print(\"Training Performance\\n\")\n",
    "olsmod2_train_perf = model_performance_regression(olsmod2, x_train4, y_train)\n",
    "olsmod2_train_perf"
   ]
  },
  {
   "cell_type": "code",
   "execution_count": 57,
   "id": "40e8549e",
   "metadata": {},
   "outputs": [
    {
     "name": "stdout",
     "output_type": "stream",
     "text": [
      "Test Performance\n",
      "\n"
     ]
    },
    {
     "data": {
      "text/html": [
       "<div>\n",
       "<style scoped>\n",
       "    .dataframe tbody tr th:only-of-type {\n",
       "        vertical-align: middle;\n",
       "    }\n",
       "\n",
       "    .dataframe tbody tr th {\n",
       "        vertical-align: top;\n",
       "    }\n",
       "\n",
       "    .dataframe thead th {\n",
       "        text-align: right;\n",
       "    }\n",
       "</style>\n",
       "<table border=\"1\" class=\"dataframe\">\n",
       "  <thead>\n",
       "    <tr style=\"text-align: right;\">\n",
       "      <th></th>\n",
       "      <th>RMSE</th>\n",
       "      <th>MAE</th>\n",
       "      <th>R-squared</th>\n",
       "      <th>Adj. R-squared</th>\n",
       "      <th>MAPE</th>\n",
       "    </tr>\n",
       "  </thead>\n",
       "  <tbody>\n",
       "    <tr>\n",
       "      <th>0</th>\n",
       "      <td>14.303</td>\n",
       "      <td>10.351</td>\n",
       "      <td>0.953</td>\n",
       "      <td>0.952</td>\n",
       "      <td>17.958</td>\n",
       "    </tr>\n",
       "  </tbody>\n",
       "</table>\n",
       "</div>"
      ],
      "text/plain": [
       "    RMSE    MAE  R-squared  Adj. R-squared   MAPE\n",
       "0 14.303 10.351      0.953           0.952 17.958"
      ]
     },
     "execution_count": 57,
     "metadata": {},
     "output_type": "execute_result"
    }
   ],
   "source": [
    "# checking model performance on test set (seen 30% data)\n",
    "print(\"Test Performance\\n\")\n",
    "olsmod2_test_perf = model_performance_regression(olsmod2, x_test4, y_test)\n",
    "olsmod2_test_perf"
   ]
  },
  {
   "cell_type": "markdown",
   "id": "fd04cead",
   "metadata": {},
   "source": [
    "* The model is able to explain ~95% of the variation in the data, which is very good.\n",
    "\n",
    "* The train and test RMSE and MAE are quite high. \n",
    "\n",
    "* The MAPE on the test set suggests we can predict within 17.9% of the life expectancy. \n",
    "\n",
    "* Hence, we can conclude the model *olsmod2* is good for prediction as well as inference purposes.\n",
    "\n",
    "**Let's compare the initial model created with sklearn and the final statsmodels model.**"
   ]
  },
  {
   "cell_type": "code",
   "execution_count": 58,
   "id": "f401f0ba",
   "metadata": {},
   "outputs": [
    {
     "name": "stdout",
     "output_type": "stream",
     "text": [
      "Training performance comparison:\n"
     ]
    },
    {
     "data": {
      "text/html": [
       "<div>\n",
       "<style scoped>\n",
       "    .dataframe tbody tr th:only-of-type {\n",
       "        vertical-align: middle;\n",
       "    }\n",
       "\n",
       "    .dataframe tbody tr th {\n",
       "        vertical-align: top;\n",
       "    }\n",
       "\n",
       "    .dataframe thead th {\n",
       "        text-align: right;\n",
       "    }\n",
       "</style>\n",
       "<table border=\"1\" class=\"dataframe\">\n",
       "  <thead>\n",
       "    <tr style=\"text-align: right;\">\n",
       "      <th></th>\n",
       "      <th>Linear Regression sklearn</th>\n",
       "      <th>Linear Regression statsmodels</th>\n",
       "    </tr>\n",
       "  </thead>\n",
       "  <tbody>\n",
       "    <tr>\n",
       "      <th>RMSE</th>\n",
       "      <td>13.685</td>\n",
       "      <td>13.783</td>\n",
       "    </tr>\n",
       "    <tr>\n",
       "      <th>MAE</th>\n",
       "      <td>10.127</td>\n",
       "      <td>10.181</td>\n",
       "    </tr>\n",
       "    <tr>\n",
       "      <th>R-squared</th>\n",
       "      <td>0.957</td>\n",
       "      <td>0.957</td>\n",
       "    </tr>\n",
       "    <tr>\n",
       "      <th>Adj. R-squared</th>\n",
       "      <td>0.956</td>\n",
       "      <td>0.956</td>\n",
       "    </tr>\n",
       "    <tr>\n",
       "      <th>MAPE</th>\n",
       "      <td>17.780</td>\n",
       "      <td>17.923</td>\n",
       "    </tr>\n",
       "  </tbody>\n",
       "</table>\n",
       "</div>"
      ],
      "text/plain": [
       "                Linear Regression sklearn  Linear Regression statsmodels\n",
       "RMSE                               13.685                         13.783\n",
       "MAE                                10.127                         10.181\n",
       "R-squared                           0.957                          0.957\n",
       "Adj. R-squared                      0.956                          0.956\n",
       "MAPE                               17.780                         17.923"
      ]
     },
     "execution_count": 58,
     "metadata": {},
     "output_type": "execute_result"
    }
   ],
   "source": [
    "# training performance comparison\n",
    "\n",
    "models_train_comp_df = pd.concat(\n",
    "    [linearregression_train_perf.T, olsmod2_train_perf.T],\n",
    "    axis=1,\n",
    ")\n",
    "\n",
    "models_train_comp_df.columns = [\n",
    "    \"Linear Regression sklearn\",\n",
    "    \"Linear Regression statsmodels\",\n",
    "]\n",
    "\n",
    "print(\"Training performance comparison:\")\n",
    "models_train_comp_df"
   ]
  },
  {
   "cell_type": "code",
   "execution_count": 59,
   "id": "4bab90c5",
   "metadata": {},
   "outputs": [
    {
     "name": "stdout",
     "output_type": "stream",
     "text": [
      "Test performance comparison:\n"
     ]
    },
    {
     "data": {
      "text/html": [
       "<div>\n",
       "<style scoped>\n",
       "    .dataframe tbody tr th:only-of-type {\n",
       "        vertical-align: middle;\n",
       "    }\n",
       "\n",
       "    .dataframe tbody tr th {\n",
       "        vertical-align: top;\n",
       "    }\n",
       "\n",
       "    .dataframe thead th {\n",
       "        text-align: right;\n",
       "    }\n",
       "</style>\n",
       "<table border=\"1\" class=\"dataframe\">\n",
       "  <thead>\n",
       "    <tr style=\"text-align: right;\">\n",
       "      <th></th>\n",
       "      <th>Linear Regression sklearn</th>\n",
       "      <th>Linear Regression statsmodels</th>\n",
       "    </tr>\n",
       "  </thead>\n",
       "  <tbody>\n",
       "    <tr>\n",
       "      <th>RMSE</th>\n",
       "      <td>14.541</td>\n",
       "      <td>14.303</td>\n",
       "    </tr>\n",
       "    <tr>\n",
       "      <th>MAE</th>\n",
       "      <td>10.520</td>\n",
       "      <td>10.351</td>\n",
       "    </tr>\n",
       "    <tr>\n",
       "      <th>R-squared</th>\n",
       "      <td>0.952</td>\n",
       "      <td>0.953</td>\n",
       "    </tr>\n",
       "    <tr>\n",
       "      <th>Adj. R-squared</th>\n",
       "      <td>0.949</td>\n",
       "      <td>0.952</td>\n",
       "    </tr>\n",
       "    <tr>\n",
       "      <th>MAPE</th>\n",
       "      <td>18.456</td>\n",
       "      <td>17.958</td>\n",
       "    </tr>\n",
       "  </tbody>\n",
       "</table>\n",
       "</div>"
      ],
      "text/plain": [
       "                Linear Regression sklearn  Linear Regression statsmodels\n",
       "RMSE                               14.541                         14.303\n",
       "MAE                                10.520                         10.351\n",
       "R-squared                           0.952                          0.953\n",
       "Adj. R-squared                      0.949                          0.952\n",
       "MAPE                               18.456                         17.958"
      ]
     },
     "execution_count": 59,
     "metadata": {},
     "output_type": "execute_result"
    }
   ],
   "source": [
    "# test performance comparison\n",
    "\n",
    "models_test_comp_df = pd.concat(\n",
    "    [linearregression_test_perf.T, olsmod2_test_perf.T],\n",
    "    axis=1,\n",
    ")\n",
    "\n",
    "models_test_comp_df.columns = [\n",
    "    \"Linear Regression sklearn\",\n",
    "    \"Linear Regression statsmodels\",\n",
    "]\n",
    "\n",
    "print(\"Test performance comparison:\")\n",
    "models_test_comp_df"
   ]
  },
  {
   "cell_type": "markdown",
   "id": "fe1dbcb2",
   "metadata": {},
   "source": [
    "* The performance of the two models is close to each other.\n",
    "\n",
    "**Let's recreate the final statsmodels model and print it's summary to gain insights.**"
   ]
  },
  {
   "cell_type": "code",
   "execution_count": 60,
   "id": "41df44ac",
   "metadata": {},
   "outputs": [
    {
     "name": "stdout",
     "output_type": "stream",
     "text": [
      "                            OLS Regression Results                            \n",
      "==============================================================================\n",
      "Dep. Variable:             used_price   R-squared:                       0.957\n",
      "Model:                            OLS   Adj. R-squared:                  0.956\n",
      "Method:                 Least Squares   F-statistic:                     3416.\n",
      "Date:                Sat, 21 Aug 2021   Prob (F-statistic):               0.00\n",
      "Time:                        00:55:50   Log-Likelihood:                -10102.\n",
      "No. Observations:                2499   AIC:                         2.024e+04\n",
      "Df Residuals:                    2482   BIC:                         2.034e+04\n",
      "Df Model:                          16                                         \n",
      "Covariance Type:            nonrobust                                         \n",
      "=========================================================================================\n",
      "                            coef    std err          t      P>|t|      [0.025      0.975]\n",
      "-----------------------------------------------------------------------------------------\n",
      "screen_size               0.2153      0.086      2.512      0.012       0.047       0.383\n",
      "main_camera_mp           -0.4651      0.084     -5.543      0.000      -0.630      -0.301\n",
      "selfie_camera_mp          0.7863      0.087      9.035      0.000       0.616       0.957\n",
      "int_memory                0.0988      0.010      9.900      0.000       0.079       0.118\n",
      "ram                      15.3110      0.491     31.197      0.000      14.349      16.273\n",
      "days_used                -0.0834      0.001    -55.795      0.000      -0.086      -0.080\n",
      "new_price                 0.3828      0.003    135.021      0.000       0.377       0.388\n",
      "brand_name_BlackBerry    10.0472      3.543      2.836      0.005       3.099      16.995\n",
      "brand_name_Gionee        -5.0928      2.217     -2.297      0.022      -9.441      -0.745\n",
      "brand_name_Google        14.8972      4.638      3.212      0.001       5.802      23.993\n",
      "brand_name_Infinix      -16.9892      4.945     -3.436      0.001     -26.686      -7.293\n",
      "brand_name_Lenovo        -3.2242      1.313     -2.456      0.014      -5.799      -0.649\n",
      "brand_name_Nokia         -7.9379      1.617     -4.909      0.000     -11.109      -4.767\n",
      "brand_name_OnePlus      -15.1254      3.267     -4.630      0.000     -21.532      -8.719\n",
      "os_Others                -4.8334      1.449     -3.336      0.001      -7.675      -1.992\n",
      "os_iOS                    9.2124      2.322      3.968      0.000       4.660      13.765\n",
      "4g_yes                   -2.3912      0.794     -3.012      0.003      -3.948      -0.834\n",
      "==============================================================================\n",
      "Omnibus:                      243.503   Durbin-Watson:                   1.977\n",
      "Prob(Omnibus):                  0.000   Jarque-Bera (JB):              545.608\n",
      "Skew:                           0.594   Prob(JB):                    3.33e-119\n",
      "Kurtosis:                       4.957   Cond. No.                     1.34e+04\n",
      "==============================================================================\n",
      "\n",
      "Notes:\n",
      "[1] Standard Errors assume that the covariance matrix of the errors is correctly specified.\n",
      "[2] The condition number is large, 1.34e+04. This might indicate that there are\n",
      "strong multicollinearity or other numerical problems.\n"
     ]
    }
   ],
   "source": [
    "olsmodel_final = sm.OLS(y_train, x_train4).fit()\n",
    "print(olsmodel_final.summary())"
   ]
  },
  {
   "cell_type": "markdown",
   "id": "802305bb",
   "metadata": {},
   "source": [
    "## Conclusions"
   ]
  },
  {
   "cell_type": "markdown",
   "id": "bcd68a54",
   "metadata": {},
   "source": [
    "1. *days_used* are quite significant. As it increases, the used_price decreases, as is visible in the negative coefficient sign.\n",
    "2. The price of a new phone will determine the price when it is sold as used. This means the higher the price of a new phone, the higher the priced when sold as used.\n",
    "3. There is an increase in the price of some used phones based on brands. brand_name_Google and brand_name_Apple are high due to the positive coefficient sign.\n",
    "4. The higher the ram, int_memory and selfie_camera_mp in a used phone, the higher the price of the phone (used).\n",
    "5. There is a low price in brands such as OnePlus and Infinix. They cost about 16 and ~15 euros respectively."
   ]
  },
  {
   "cell_type": "code",
   "execution_count": null,
   "id": "a590225b",
   "metadata": {},
   "outputs": [],
   "source": []
  }
 ],
 "metadata": {
  "kernelspec": {
   "display_name": "Python 3",
   "language": "python",
   "name": "python3"
  },
  "language_info": {
   "codemirror_mode": {
    "name": "ipython",
    "version": 3
   },
   "file_extension": ".py",
   "mimetype": "text/x-python",
   "name": "python",
   "nbconvert_exporter": "python",
   "pygments_lexer": "ipython3",
   "version": "3.8.8"
  }
 },
 "nbformat": 4,
 "nbformat_minor": 5
}
